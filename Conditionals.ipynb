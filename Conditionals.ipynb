{
  "nbformat": 4,
  "nbformat_minor": 0,
  "metadata": {
    "kernelspec": {
      "display_name": "Python 3",
      "language": "python",
      "name": "python3"
    },
    "language_info": {
      "codemirror_mode": {
        "name": "ipython",
        "version": 3
      },
      "file_extension": ".py",
      "mimetype": "text/x-python",
      "name": "python",
      "nbconvert_exporter": "python",
      "pygments_lexer": "ipython3",
      "version": "3.7.3"
    },
    "colab": {
      "name": "04 Conditionals.ipynb",
      "provenance": [],
      "include_colab_link": true
    }
  },
  "cells": [
    {
      "cell_type": "markdown",
      "metadata": {
        "id": "view-in-github",
        "colab_type": "text"
      },
      "source": [
        "<a href=\"https://colab.research.google.com/github/lmu-cmsi1010-fall2021/lab-notebook-originals/blob/main/Conditionals.ipynb\" target=\"_parent\"><img src=\"https://colab.research.google.com/assets/colab-badge.svg\" alt=\"Open In Colab\"/></a>"
      ]
    },
    {
      "cell_type": "markdown",
      "metadata": {
        "id": "H36wmSLyy3Tt"
      },
      "source": [
        "## Boolean expressions\n",
        "\n",
        "Boolean expressions can include the relational operators `==`,`!=`, `<`,`>`,`>=`,`=<`, along with the logical operators `and`, `or`, `is`, `in` and `not`."
      ]
    },
    {
      "cell_type": "code",
      "metadata": {
        "id": "pWFH3xXPy3Tu"
      },
      "source": [
        "a = 'drawer'\n",
        "b = 'drawer'\n",
        "\n",
        "a == b"
      ],
      "execution_count": null,
      "outputs": []
    },
    {
      "cell_type": "code",
      "metadata": {
        "id": "YmCHlycTy3Tv"
      },
      "source": [
        "a is b"
      ],
      "execution_count": null,
      "outputs": []
    },
    {
      "cell_type": "code",
      "metadata": {
        "id": "WhCLh2dPy3Tv"
      },
      "source": [
        "c = set(['diaper', 'repaid'])\n",
        "d = set(['diaper', 'repaid'])\n",
        "\n",
        "print(c)\n",
        "print(d)"
      ],
      "execution_count": null,
      "outputs": []
    },
    {
      "cell_type": "code",
      "metadata": {
        "id": "AoQ0eysPy3Tv"
      },
      "source": [
        "c == d"
      ],
      "execution_count": null,
      "outputs": []
    },
    {
      "cell_type": "code",
      "metadata": {
        "id": "MbYbVHbdy3Tv"
      },
      "source": [
        "c is d"
      ],
      "execution_count": null,
      "outputs": []
    },
    {
      "cell_type": "code",
      "metadata": {
        "id": "DAVR-oPjy3Tv"
      },
      "source": [
        "# Copy & Paste in PythonTutor to see what's happening here\n",
        "a = 'drawer'\n",
        "b = 'drawer'\n",
        "c = set(['diaper', 'repaid'])\n",
        "d = set(['diaper', 'repaid'])\n",
        "e = c\n",
        "\n",
        "a_is_b = a is b\n",
        "c_is_d = c is d\n",
        "c_is_e = c is e\n",
        "\n",
        "c.add('reward')\n",
        "e"
      ],
      "execution_count": null,
      "outputs": []
    },
    {
      "cell_type": "code",
      "metadata": {
        "id": "WZRR_eovy3Tw"
      },
      "source": [
        "'orange' in 'orange juice'"
      ],
      "execution_count": null,
      "outputs": []
    },
    {
      "cell_type": "code",
      "metadata": {
        "id": "-I5nAe4Fy3Tw"
      },
      "source": [
        "'apple' != 'orange'"
      ],
      "execution_count": null,
      "outputs": []
    },
    {
      "cell_type": "code",
      "metadata": {
        "id": "RTK3lLxSy3Tw"
      },
      "source": [
        "koala = 'koala'\n",
        "koala == 'koala'"
      ],
      "execution_count": null,
      "outputs": []
    },
    {
      "cell_type": "code",
      "metadata": {
        "id": "8Z-Q3tfoy3Tw"
      },
      "source": [
        "'diaper' in d"
      ],
      "execution_count": null,
      "outputs": []
    },
    {
      "cell_type": "code",
      "metadata": {
        "id": "m9w2helly3Tw"
      },
      "source": [
        "3 in 234"
      ],
      "execution_count": null,
      "outputs": []
    },
    {
      "cell_type": "code",
      "metadata": {
        "id": "bqkmAM_Xy3Tx"
      },
      "source": [
        "True and False"
      ],
      "execution_count": null,
      "outputs": []
    },
    {
      "cell_type": "code",
      "metadata": {
        "id": "1yvZ1LSNy3Tx"
      },
      "source": [
        "True or False"
      ],
      "execution_count": null,
      "outputs": []
    },
    {
      "cell_type": "code",
      "metadata": {
        "id": "rQyYf5zTy3Tx"
      },
      "source": [
        "not False"
      ],
      "execution_count": null,
      "outputs": []
    },
    {
      "cell_type": "code",
      "metadata": {
        "id": "HX0Fa1sqy3Tx"
      },
      "source": [
        "2 > 4 and 0 <= -0"
      ],
      "execution_count": null,
      "outputs": []
    },
    {
      "cell_type": "code",
      "metadata": {
        "id": "6ud4KKa8y3Ty"
      },
      "source": [
        "2 > 4 and 0 == -0 or 144 % 3==0"
      ],
      "execution_count": null,
      "outputs": []
    },
    {
      "cell_type": "markdown",
      "metadata": {
        "id": "Mt8OKCOUy3Ty"
      },
      "source": [
        "***\n",
        "## Conditionals\n",
        "\n",
        "A conditional statement in Python consists of a series of *headers* and *suites*: a required `if` clause, an optional sequence of `elif` clauses, and finally an optional `else` clause:\n",
        "\n",
        "```\n",
        "if <boolean expression>:\n",
        "    <suite>\n",
        "elif <boolean expression>:\n",
        "    <suite>\n",
        "else:\n",
        "    <suite>\n",
        "```\n",
        "    \n",
        "The boolean expressions in the above if and elif statements are also called called *boolean contexts*."
      ]
    },
    {
      "cell_type": "code",
      "metadata": {
        "id": "_qHtSqlXy3Ty"
      },
      "source": [
        "age = int(input('How old are you? '))\n",
        "prompt = 'Have you had a birthday this year? [y/n] \\n'\n",
        "bday_yet = input(prompt)"
      ],
      "execution_count": null,
      "outputs": []
    },
    {
      "cell_type": "markdown",
      "metadata": {
        "id": "sxE62RV-y3Ty"
      },
      "source": [
        "Now that we have some information, we can respond accordingly."
      ]
    },
    {
      "cell_type": "code",
      "metadata": {
        "id": "1DBuQRmVy3Ty"
      },
      "source": [
        "if int(age) >= 0:\n",
        "    if bday_yet == 'y':\n",
        "        print('You must have been born in ', 2021 - int(age))\n",
        "    elif bday_yet == 'n':\n",
        "        print('You must have been born in ', 2020 - int(age))"
      ],
      "execution_count": null,
      "outputs": []
    },
    {
      "cell_type": "code",
      "metadata": {
        "id": "n0DTPM4Ky3Tz"
      },
      "source": [
        "if age > 21:\n",
        "    print('Cheers! 🍺')\n",
        "else:\n",
        "    print('Cheers! 🥤')"
      ],
      "execution_count": null,
      "outputs": []
    },
    {
      "cell_type": "markdown",
      "metadata": {
        "id": "eJ1IFirby3Tz"
      },
      "source": [
        "***\n",
        "### Blackjack Lab Time\n",
        "\n",
        "Blackjack is a card game where the goal is to get 21 points without going over. Cards 2-10 are worth their face value; Jacks, Queens, and Kings are worth 10, and an Ace is worth 11. A player is dealt two cards and then they can say “hit” to get another card in hopes of getting closer to a score of 21, or “stand” to pass on getting another card in hopes of avoiding going over 21. \n",
        "\n",
        "Write a program for a very indecisive Blackjack player to decide for them whether to “hit” or “stand.” Take it one step at a time. You can decide if you’d like to use one or more code cells.\n",
        "\n",
        "**1)** Prompt a user to enter the values of each of their two cards.\n",
        "\n",
        "**2)** Use conditional statements to confirm the user entered a value of 1-11 for each card.\n",
        "\n",
        "**3)** If the user entered valid card values, use more conditional statements to decide whether to “hit” or “stand” – or maybe you want to “split” which means getting two more cards and trying to get two Blackjacks (21s). An example would be: if the two cards total is 21, definitely “stand” (maybe even `print('blackjack!!')` for fun?), if the total is greater than 17, also “stand,” “split” if the user was dealt two Aces, and otherwise “hit.”\n",
        "\n",
        "**4)** In this game, each player’s cards are dealt one face down and the next face up. Edit your code so far to also ask the user for the value of the face-up card their opponent was dealt. Does this change our decision of whether to get another card or not? Discuss with neighbors."
      ]
    },
    {
      "cell_type": "code",
      "metadata": {
        "id": "oQhscTWdy3Tz"
      },
      "source": [
        "..."
      ],
      "execution_count": null,
      "outputs": []
    }
  ]
}