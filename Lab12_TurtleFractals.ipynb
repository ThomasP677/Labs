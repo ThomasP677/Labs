{
  "nbformat": 4,
  "nbformat_minor": 0,
  "metadata": {
    "colab": {
      "name": "Lab12_TurtleFractals.ipynb",
      "provenance": [],
      "collapsed_sections": []
    },
    "kernelspec": {
      "name": "python3",
      "display_name": "Python 3"
    },
    "language_info": {
      "name": "python"
    }
  },
  "cells": [
    {
      "cell_type": "code",
      "source": [
        "from ColabTurtle.Turtle import *\n",
        "\n",
        "initializeTurtle()\n",
        "\n",
        "forward(100) # move 100 steps\n",
        "left(90) # turn 90 degrees\n",
        "\n"
      ],
      "metadata": {
        "id": "mqoVeUfCE7cB"
      },
      "execution_count": null,
      "outputs": []
    }
  ]
}