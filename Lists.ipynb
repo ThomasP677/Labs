{
  "nbformat": 4,
  "nbformat_minor": 0,
  "metadata": {
    "kernelspec": {
      "display_name": "Python 3",
      "language": "python",
      "name": "python3"
    },
    "language_info": {
      "codemirror_mode": {
        "name": "ipython",
        "version": 3
      },
      "file_extension": ".py",
      "mimetype": "text/x-python",
      "name": "python",
      "nbconvert_exporter": "python",
      "pygments_lexer": "ipython3",
      "version": "3.7.3"
    },
    "colab": {
      "name": "09 Lists.ipynb",
      "provenance": [],
      "include_colab_link": true
    }
  },
  "cells": [
    {
      "cell_type": "markdown",
      "metadata": {
        "id": "view-in-github",
        "colab_type": "text"
      },
      "source": [
        "<a href=\"https://colab.research.google.com/github/lmu-cmsi1010-fall2021/lab-notebook-originals/blob/main/Lists.ipynb\" target=\"_parent\"><img src=\"https://colab.research.google.com/assets/colab-badge.svg\" alt=\"Open In Colab\"/></a>"
      ]
    },
    {
      "cell_type": "markdown",
      "metadata": {
        "id": "ar70PLcwIVAx"
      },
      "source": [
        "## Lists\n",
        "\n",
        "For more details on this topic, make sure to read [Think Python](https://greenteapress.com/thinkpython2/thinkpython2.pdf) chapter 10!\n",
        "\n",
        "A **list** is a sequence of values, of any type. The values are called **elements**."
      ]
    },
    {
      "cell_type": "code",
      "metadata": {
        "id": "Ib2vCXZHIVAx"
      },
      "source": [
        "# a list of 4 integers\n",
        "[10, 20, 30, 40]"
      ],
      "execution_count": null,
      "outputs": []
    },
    {
      "cell_type": "code",
      "metadata": {
        "id": "ktCKh07zIVAx"
      },
      "source": [
        "# a list of 5 strings\n",
        "['Pooh', 'Rabbit', 'Piglet', 'Tigger', 'Eeyore']"
      ],
      "execution_count": null,
      "outputs": []
    },
    {
      "cell_type": "code",
      "metadata": {
        "id": "73C6adogIVAx"
      },
      "source": [
        "# a list containing a string, a float, \n",
        "# an integer, (hey!) another list, even a function\n",
        "randomList = ['Christopher Robin', 2.0, 5, [10, 20], max]"
      ],
      "execution_count": null,
      "outputs": []
    },
    {
      "cell_type": "code",
      "metadata": {
        "id": "7-tTuxt7IVAx"
      },
      "source": [
        "# a list can be empty\n",
        "[]"
      ],
      "execution_count": null,
      "outputs": []
    },
    {
      "cell_type": "code",
      "metadata": {
        "id": "_TdBytknIVAy"
      },
      "source": [
        "cheeses = ['Cheddar', 'Edam', 'Gouda']\n",
        "numbers = [42, 123]\n",
        "empty = []\n",
        "\n",
        "print(cheeses, numbers, empty)"
      ],
      "execution_count": null,
      "outputs": []
    },
    {
      "cell_type": "markdown",
      "metadata": {
        "id": "h1MzqQbaIVAy"
      },
      "source": [
        "[Python Tutor](http://pythontutor.com/visualize.html#code=cheeses%20%3D%20%5B'Cheddar',%20'Edam',%20'Gouda'%5D%0Anumbers%20%3D%20%5B42,%20123%5D%0Aempty%20%3D%20%5B%5D%0Arandom%20%3D%20%5B'Brie',%202.0,%205,%20%5B10,%2020%5D%5D&cumulative=false&heapPrimitives=nevernest&mode=edit&origin=opt-frontend.js&py=3&rawInputLstJSON=%5B%5D&textReferences=false) is a great tool for visualizing lists in diagram form!"
      ]
    },
    {
      "cell_type": "markdown",
      "metadata": {
        "id": "8m7nzORtIVAy"
      },
      "source": [
        "***\n",
        "### `for` loops and lists\n",
        "\n",
        "As noted before, `for` loops and lists are very strongly associated; run these code blocks to review…"
      ]
    },
    {
      "cell_type": "code",
      "metadata": {
        "id": "S5z0h9cZIVAy"
      },
      "source": [
        "for i in range(4):\n",
        "    print(\"do something\")"
      ],
      "execution_count": null,
      "outputs": []
    },
    {
      "cell_type": "code",
      "metadata": {
        "id": "Zh3p0nCIIVAy"
      },
      "source": [
        "for cheese in cheeses:\n",
        "    print(cheese)"
      ],
      "execution_count": null,
      "outputs": []
    },
    {
      "cell_type": "code",
      "metadata": {
        "id": "RsbtwNmIIVAz"
      },
      "source": [
        "numbers"
      ],
      "execution_count": null,
      "outputs": []
    },
    {
      "cell_type": "code",
      "metadata": {
        "id": "Q2m--I6JIVAz"
      },
      "source": [
        "len(numbers)"
      ],
      "execution_count": null,
      "outputs": []
    },
    {
      "cell_type": "code",
      "metadata": {
        "id": "5WSolDtAIVAz"
      },
      "source": [
        "for i in range(len(numbers)):\n",
        "    numbers[i] = numbers[i] * 2\n",
        "    \n",
        "numbers"
      ],
      "execution_count": null,
      "outputs": []
    },
    {
      "cell_type": "code",
      "metadata": {
        "id": "dldwvKAcIVAz"
      },
      "source": [
        "for x in []:\n",
        "    print('This never happens.')"
      ],
      "execution_count": null,
      "outputs": []
    },
    {
      "cell_type": "code",
      "metadata": {
        "id": "TXWCQjvFIVAz"
      },
      "source": [
        "# nested lists count as one element\n",
        "nests = ['spam', 1, ['Brie', 'Roquefort', 'Pol le Veq'], [1, 2, 3]]\n",
        "len(nests)"
      ],
      "execution_count": null,
      "outputs": []
    },
    {
      "cell_type": "code",
      "metadata": {
        "id": "ygMH1Pq5IVA0"
      },
      "source": [
        "for element in nests:\n",
        "    print(element)"
      ],
      "execution_count": null,
      "outputs": []
    },
    {
      "cell_type": "markdown",
      "metadata": {
        "id": "8cnzVDjPIVA0"
      },
      "source": [
        "***\n",
        "**Mutability**\n",
        "\n",
        "Mutability refers to the ability to change parts of a value without changing the value overall. Lists are mutable; as seen before, strings are not."
      ]
    },
    {
      "cell_type": "code",
      "metadata": {
        "id": "j25sCj5vIVA0"
      },
      "source": [
        "numbers = [42, 123] # Redefined from earlier for convenience.\n",
        "numbers[1]"
      ],
      "execution_count": null,
      "outputs": []
    },
    {
      "cell_type": "code",
      "metadata": {
        "id": "vuQCdAANIVA0"
      },
      "source": [
        "# We can change a member of `numbers` but the rest of it, as well\n",
        "# as the value itself, stays the same.\n",
        "numbers[1] = 5\n",
        "numbers"
      ],
      "execution_count": null,
      "outputs": []
    },
    {
      "cell_type": "code",
      "metadata": {
        "id": "OcOZA_1RIVA0"
      },
      "source": [
        "# Compare this to a string.\n",
        "message = 'some string'\n",
        "message[1]"
      ],
      "execution_count": null,
      "outputs": []
    },
    {
      "cell_type": "code",
      "metadata": {
        "id": "xHN5G1udIVA0"
      },
      "source": [
        "# Note the code looks the same as with numbers, but…\n",
        "message[1] = 'a'"
      ],
      "execution_count": null,
      "outputs": []
    },
    {
      "cell_type": "markdown",
      "metadata": {
        "id": "n3Cj6-b-IVA1"
      },
      "source": [
        "If we replace all the parts, is it still the same list?"
      ]
    },
    {
      "cell_type": "code",
      "metadata": {
        "id": "jQ-OiQd-IVA1"
      },
      "source": [
        "cheeses = ['Cheddar', 'Edam', 'Gouda']\n",
        "quesos = cheeses\n",
        "print(cheeses, quesos)\n",
        "\n",
        "cheeses[2] = 'Jack'\n",
        "cheeses[0] = 'Blue'\n",
        "cheeses[1] = 'Colby'\n",
        "\n",
        "print(cheeses)\n",
        "print(cheeses == quesos)"
      ],
      "execution_count": null,
      "outputs": []
    },
    {
      "cell_type": "markdown",
      "metadata": {
        "id": "R9dDRux1L4vs"
      },
      "source": [
        "This is another good one for [PythonTutor](https://pythontutor.com/visualize.html#code=cheeses%20%3D%20%5B'Cheddar',%20'Edam',%20'Gouda'%5D%0Aquesos%20%3D%20cheeses%0Aprint%28cheeses,%20quesos%29%0A%0Acheeses%5B2%5D%20%3D%20'Jack'%0Acheeses%5B0%5D%20%3D%20'Blue'%0Acheeses%5B1%5D%20%3D%20'Colby'%0A%0Aprint%28cheeses%29%0Aprint%28cheeses%20%3D%3D%20quesos%29&cumulative=false&curInstr=8&heapPrimitives=nevernest&mode=display&origin=opt-frontend.js&py=3&rawInputLstJSON=%5B%5D&textReferences=false)!"
      ]
    },
    {
      "cell_type": "code",
      "metadata": {
        "id": "6OnNMcKIIVA1"
      },
      "source": [
        "# Compare, again, to strings.\n",
        "favorite_cheese = 'Brie'\n",
        "their_favorite_cheese = favorite_cheese\n",
        "\n",
        "favorite_cheese = 'string'\n",
        "favorite_cheese == their_favorite_cheese"
      ],
      "execution_count": null,
      "outputs": []
    },
    {
      "cell_type": "markdown",
      "metadata": {
        "id": "d8E6f8bBIVA1"
      },
      "source": [
        "***\n",
        "**List operations**\n",
        "\n",
        "`+` combines two lists.\n",
        "\n",
        "`*` copies a list the given number of times.\n",
        "\n",
        "(note the analogous behavior to `+` and `*` with strings)"
      ]
    },
    {
      "cell_type": "code",
      "metadata": {
        "id": "0SEpyCn4IVA1"
      },
      "source": [
        "a = [1, 2, 3]\n",
        "b = [4, 5, 6]\n",
        "c = a + b\n",
        "c"
      ],
      "execution_count": null,
      "outputs": []
    },
    {
      "cell_type": "code",
      "metadata": {
        "id": "Ektx7QkZIVA2"
      },
      "source": [
        "[0] * 4"
      ],
      "execution_count": null,
      "outputs": []
    },
    {
      "cell_type": "code",
      "metadata": {
        "id": "AAvk4Yb1IVA2"
      },
      "source": [
        "[1, 2, 3] * 3"
      ],
      "execution_count": null,
      "outputs": []
    },
    {
      "cell_type": "markdown",
      "metadata": {
        "id": "C83eDVJIIVA3"
      },
      "source": [
        "Similarly to strings, lists can also be _sliced_."
      ]
    },
    {
      "cell_type": "code",
      "metadata": {
        "id": "rbiwvISYIVA3"
      },
      "source": [
        "t = ['a', 'b', 'c', 'd', 'e', 'f']\n",
        "t[1:3]"
      ],
      "execution_count": null,
      "outputs": []
    },
    {
      "cell_type": "code",
      "metadata": {
        "id": "UVPCKzUrIVA4"
      },
      "source": [
        "t[:4]"
      ],
      "execution_count": null,
      "outputs": []
    },
    {
      "cell_type": "code",
      "metadata": {
        "id": "0CAa1qFTIVA4"
      },
      "source": [
        "t[3:]"
      ],
      "execution_count": null,
      "outputs": []
    },
    {
      "cell_type": "code",
      "metadata": {
        "id": "yhEttCU3IVA5"
      },
      "source": [
        "t[:]"
      ],
      "execution_count": null,
      "outputs": []
    },
    {
      "cell_type": "code",
      "metadata": {
        "id": "Z5PePjNdIVA5"
      },
      "source": [
        "t[::-1]"
      ],
      "execution_count": null,
      "outputs": []
    },
    {
      "cell_type": "code",
      "metadata": {
        "id": "pSnCrVruIVA5"
      },
      "source": [
        "t[1:3] = ['x', 'y']\n",
        "t"
      ],
      "execution_count": null,
      "outputs": []
    },
    {
      "cell_type": "code",
      "metadata": {
        "id": "gGSrkuzeMsuf"
      },
      "source": [
        "# Slices make _new_ lists!\n",
        "print(t)\n",
        "s = t[1:3]\n",
        "print(s)\n",
        "\n",
        "s[0] = 42\n",
        "print(t, s)"
      ],
      "execution_count": null,
      "outputs": []
    },
    {
      "cell_type": "markdown",
      "metadata": {
        "id": "UhhNrTsaIVA5"
      },
      "source": [
        "***\n",
        "**List methods**\n",
        "\n",
        "Just like strings, lists also have *methods*—functions that are written relative to a specific list.\n",
        "\n",
        "`append` adds one element to a list.\n",
        "\n",
        "`extend` adds a *list* to a list.\n",
        "\n",
        "`sort` sorts a list."
      ]
    },
    {
      "cell_type": "code",
      "metadata": {
        "id": "TPPDYbXDIVA6"
      },
      "source": [
        "q = ['a', 'b', 'c']\n",
        "q.append('d')\n",
        "q # Mutability!"
      ],
      "execution_count": null,
      "outputs": []
    },
    {
      "cell_type": "code",
      "metadata": {
        "id": "FhC-7Kc4IVA6"
      },
      "source": [
        "r1 = ['a', 'b', 'c']\n",
        "r2 = ['d', 'e']\n",
        "r1.extend(r2)\n",
        "r1"
      ],
      "execution_count": null,
      "outputs": []
    },
    {
      "cell_type": "code",
      "metadata": {
        "id": "IBoeW0JwIVA6"
      },
      "source": [
        "r2"
      ],
      "execution_count": null,
      "outputs": []
    },
    {
      "cell_type": "code",
      "metadata": {
        "id": "YTpqySwkIVA7"
      },
      "source": [
        "t = ['d', 'c', 'e', 'b', 'a']\n",
        "t.sort()\n",
        "t"
      ],
      "execution_count": null,
      "outputs": []
    },
    {
      "cell_type": "code",
      "metadata": {
        "id": "_6EM-pCnIVA7"
      },
      "source": [
        "# Note again how methods look different from functions,\n",
        "# even though they sometimes \"feel\" the same.\n",
        "sort(t) # Makes sense to us, but not to Python!"
      ],
      "execution_count": null,
      "outputs": []
    },
    {
      "cell_type": "code",
      "metadata": {
        "id": "z7FmKbspIVA7"
      },
      "source": [
        "# List methods are usually void (return None)\n",
        "t = t.sort()\n",
        "t"
      ],
      "execution_count": null,
      "outputs": []
    },
    {
      "cell_type": "markdown",
      "metadata": {
        "id": "Wa6UE-JcIVA8"
      },
      "source": [
        "***\n",
        "**Functions using lists**\n",
        "\n",
        "Functions with lists largely fall into three general categories: **reduce**, **map**, and **filter**.\n",
        "\n",
        "An operation like `sum` or `sum_elements` that combines a sequence of elements into a single value is sometimes called **reduce**:"
      ]
    },
    {
      "cell_type": "code",
      "metadata": {
        "id": "Uf0uqj5kIVA8"
      },
      "source": [
        "def sum_elements(my_list):\n",
        "    \"\"\"Returns the sum of numbers in a list\"\"\"\n",
        "    total = 0 # total initialized to 0\n",
        "    for element in my_list:\n",
        "        total += element # total accumulates the sum of the elements\n",
        "    return total"
      ],
      "execution_count": null,
      "outputs": []
    },
    {
      "cell_type": "code",
      "metadata": {
        "id": "y5S6I9VgIVA8"
      },
      "source": [
        "sum_elements([0, 1, 1])"
      ],
      "execution_count": null,
      "outputs": []
    },
    {
      "cell_type": "code",
      "metadata": {
        "id": "C1QBgjrAIVA8"
      },
      "source": [
        "nums = [42, 124, 63, 7, 8]\n",
        "sum_elements(nums)"
      ],
      "execution_count": null,
      "outputs": []
    },
    {
      "cell_type": "code",
      "metadata": {
        "id": "kcyGwpgCIVA8"
      },
      "source": [
        "# As it turns out, Python has a `sum` function built-in.\n",
        "sum([0, 1, 1])"
      ],
      "execution_count": null,
      "outputs": []
    },
    {
      "cell_type": "code",
      "metadata": {
        "id": "BFZaLUOSIVA8"
      },
      "source": [
        "sum(nums)"
      ],
      "execution_count": null,
      "outputs": []
    },
    {
      "cell_type": "markdown",
      "metadata": {
        "id": "C8zJUuQiIVA8"
      },
      "source": [
        "An operation like `capitalize_all` is sometimes called a **map** because it “maps” a function (in this case the method `capitalize`) onto each of the elements in a sequence:"
      ]
    },
    {
      "cell_type": "code",
      "metadata": {
        "id": "e2veaNmZIVA8"
      },
      "source": [
        "def capitalize_all(t):\n",
        "    res = [] # res is initialized with an empty list\n",
        "    for s in t:\n",
        "        res.append(s.capitalize())\n",
        "    return res"
      ],
      "execution_count": null,
      "outputs": []
    },
    {
      "cell_type": "code",
      "metadata": {
        "id": "rX2sYnAfIVA8"
      },
      "source": [
        "cheeses = ['cheddar', 'edam', 'gouda']\n",
        "capitalize_all(cheeses)"
      ],
      "execution_count": null,
      "outputs": []
    },
    {
      "cell_type": "code",
      "metadata": {
        "id": "pm3tNJj0IVA9"
      },
      "source": [
        "# `capitalize_all` makes a new list, leaving the original untouched.\n",
        "cheeses"
      ],
      "execution_count": null,
      "outputs": []
    },
    {
      "cell_type": "markdown",
      "metadata": {
        "id": "KRj6F7bsIVA9"
      },
      "source": [
        "An operation like `only_upper` is called a **filter** because it selects some of the elements and filters out the others:"
      ]
    },
    {
      "cell_type": "code",
      "metadata": {
        "id": "2C15NdY6IVA9"
      },
      "source": [
        "def only_upper(t):\n",
        "    res = []\n",
        "    for s in t:\n",
        "        if s.isupper(): # True if string contains only upper case letters\n",
        "            res.append(s)\n",
        "    return res"
      ],
      "execution_count": null,
      "outputs": []
    },
    {
      "cell_type": "code",
      "metadata": {
        "id": "tcmjKAWbIVA9"
      },
      "source": [
        "cheeses.extend(['BLUE', 'COLBY', 'Jack'])\n",
        "cheeses"
      ],
      "execution_count": null,
      "outputs": []
    },
    {
      "cell_type": "code",
      "metadata": {
        "id": "fCFj0OmqIVA9"
      },
      "source": [
        "only_upper(cheeses)"
      ],
      "execution_count": null,
      "outputs": []
    },
    {
      "cell_type": "markdown",
      "metadata": {
        "id": "kV4OIwP6IVA9"
      },
      "source": [
        "\n",
        "Most common list operations can be expressed as a combination of **map**, **filter**, and **reduce**."
      ]
    },
    {
      "cell_type": "markdown",
      "metadata": {
        "id": "aFPsOeMGIVA9"
      },
      "source": [
        "***\n",
        "**Deleting elements**\n",
        "\n",
        "Mutability includes the ability to remove members from the list (while keeping the list itself intact)."
      ]
    },
    {
      "cell_type": "code",
      "metadata": {
        "id": "ICpLULmhIVA9"
      },
      "source": [
        "t = ['a', 'b', 'c']\n",
        "x = t.pop(1)\n",
        "t"
      ],
      "execution_count": null,
      "outputs": []
    },
    {
      "cell_type": "code",
      "metadata": {
        "id": "upMXh-c4IVA9"
      },
      "source": [
        "x"
      ],
      "execution_count": null,
      "outputs": []
    },
    {
      "cell_type": "code",
      "metadata": {
        "id": "_tUcW1yNIVA9"
      },
      "source": [
        "t = ['a', 'b', 'c']\n",
        "del t[1]\n",
        "t"
      ],
      "execution_count": null,
      "outputs": []
    },
    {
      "cell_type": "code",
      "metadata": {
        "id": "nqA5Um2ZIVA9"
      },
      "source": [
        "t = ['a', 'b', 'c', 'd', 'e', 'f']\n",
        "del t[1:5]\n",
        "t"
      ],
      "execution_count": null,
      "outputs": []
    },
    {
      "cell_type": "code",
      "metadata": {
        "id": "3C63kFshIVA9"
      },
      "source": [
        "# `pop` takes an index; `remove` takes a value.\n",
        "t = ['a', 'b', 'c']\n",
        "removed = t.remove('b')\n",
        "print(t, removed) # …and doesn't return anything.\n",
        "\n",
        "# (which makes sense, because you already know what you removed)"
      ],
      "execution_count": null,
      "outputs": []
    },
    {
      "cell_type": "code",
      "metadata": {
        "id": "0RU8N2EdIVA9"
      },
      "source": [
        "# And if the value appears more than once…\n",
        "t = ['a', 'b', 'b', 'c']\n",
        "t.remove('b')\n",
        "t"
      ],
      "execution_count": null,
      "outputs": []
    },
    {
      "cell_type": "code",
      "metadata": {
        "id": "sTInkjTaSNQ6"
      },
      "source": [
        "# Finally, if you try to remove a value that isn't there…\n",
        "t = ['a', 'b', 'c', 'd', 'e', 'f']\n",
        "t.remove('x')\n",
        "t"
      ],
      "execution_count": null,
      "outputs": []
    },
    {
      "cell_type": "markdown",
      "metadata": {
        "id": "L5R2PLl2RtbK"
      },
      "source": [
        "Try these yourself! Instead of giving you prepared links now, just go to https://pythontutor.com directly and type any of these yourself!"
      ]
    },
    {
      "cell_type": "markdown",
      "metadata": {
        "id": "gzBzW0psIVA-"
      },
      "source": [
        "***\n",
        "## List practice!\n",
        "**Part 1:** Write a function called `is_sorted` that takes a list as an argument and returns True if the list is sorted in ascending order and False otherwise. For example:\n",
        "\n",
        "- `is_sorted([1, 2, 2])` returns `True`\n",
        "- `is_sorted(['b', 'a'])` returns `False`"
      ]
    },
    {
      "cell_type": "code",
      "metadata": {
        "id": "unYWnwUCIVA-"
      },
      "source": [
        "..."
      ],
      "execution_count": null,
      "outputs": []
    },
    {
      "cell_type": "markdown",
      "metadata": {
        "id": "UVAr1ey1IVA-"
      },
      "source": [
        "Here are some test cases:"
      ]
    },
    {
      "cell_type": "code",
      "metadata": {
        "id": "2w0fEX1XIVA-"
      },
      "source": [
        "is_sorted([1, 2, 2]) # should be True"
      ],
      "execution_count": null,
      "outputs": []
    },
    {
      "cell_type": "code",
      "metadata": {
        "id": "SVILjm1EIVA-"
      },
      "source": [
        "is_sorted(['b', 'a']) # should be False"
      ],
      "execution_count": null,
      "outputs": []
    },
    {
      "cell_type": "markdown",
      "metadata": {
        "id": "DnhLaNSKIVA-"
      },
      "source": [
        "**Part 2:** Write a function called `has_duplicates` that takes a list and returns True if there is any element that appears more than once. It should not modify the original list."
      ]
    },
    {
      "cell_type": "code",
      "metadata": {
        "id": "TCazG0IwIVA-"
      },
      "source": [
        "..."
      ],
      "execution_count": null,
      "outputs": []
    },
    {
      "cell_type": "markdown",
      "metadata": {
        "id": "Th9v6qtZIVA-"
      },
      "source": [
        "Here are some test cases:"
      ]
    },
    {
      "cell_type": "code",
      "metadata": {
        "id": "PBVeuC16IVA-"
      },
      "source": [
        "has_duplicates([1, 2, 2]) # should be True"
      ],
      "execution_count": null,
      "outputs": []
    },
    {
      "cell_type": "code",
      "metadata": {
        "id": "tkgVqeilIVA-"
      },
      "source": [
        "has_duplicates(['b', 'a']) # should be False"
      ],
      "execution_count": null,
      "outputs": []
    },
    {
      "cell_type": "markdown",
      "metadata": {
        "id": "u4yKoFRuIVA-"
      },
      "source": [
        "**Part 3:** This part pertains to the so-called Birthday Paradox, which you can read about at http://en.wikipedia.org/wiki/Birthday_paradox.\n",
        "\n",
        "If there are 23 students in your class, what are the chances that two of you have the same birthday? You can estimate this probability by generating random samples of 23 birthdays and checking for matches. Hint: you can generate random birthdays with the `randint` function in the `random` module.\n",
        "\n",
        "Try it yourself, or you can download the author's solution from http://thinkpython2.com/code/birthday.py."
      ]
    },
    {
      "cell_type": "code",
      "metadata": {
        "id": "V5ZdL0ZDIVA-"
      },
      "source": [
        "..."
      ],
      "execution_count": null,
      "outputs": []
    }
  ]
}