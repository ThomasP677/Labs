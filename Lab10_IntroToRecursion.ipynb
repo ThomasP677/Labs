{
  "nbformat": 4,
  "nbformat_minor": 0,
  "metadata": {
    "kernelspec": {
      "display_name": "Python 3",
      "language": "python",
      "name": "python3"
    },
    "language_info": {
      "codemirror_mode": {
        "name": "ipython",
        "version": 3
      },
      "file_extension": ".py",
      "mimetype": "text/x-python",
      "name": "python",
      "nbconvert_exporter": "python",
      "pygments_lexer": "ipython3",
      "version": "3.7.3"
    },
    "colab": {
      "name": "Lab10_IntroToRecursion.ipynb",
      "provenance": [],
      "collapsed_sections": []
    }
  },
  "cells": [
    {
      "cell_type": "code",
      "source": [
        "def palindrome(test):\n",
        "    print('Current input:', test)\n",
        "\n",
        "    # Base case for empty string or single character\n",
        "    if len(test) <= 1:\n",
        "        print('Base case: length 0 or 1')\n",
        "        return True\n",
        "\n",
        "    # Base case for when the first and last character are\n",
        "    # different so we know it cannot be a palindrome\n",
        "    elif test[0] != test[-1]:\n",
        "        print('Not palindrome: first and last chars differ')\n",
        "        return False\n",
        "    i = -1\n",
        "    for letter in test:\n",
        "      if letter == test[len(test)+i]:\n",
        "          i -= 1\n",
        "          continue\n",
        "      return False\n",
        "    return True\n",
        "\n",
        "    print('ok so far')\n",
        "\n",
        "    # This recursive call passes the a substring of test from the\n",
        "    # second character at index 1 to right before the last character\n",
        "    # at index -1\n",
        "    palindrome(test[0])\n",
        "\n",
        "    return palindrome(test[1:-1])\n",
        "\n",
        "\n",
        "print(palindrome(''))  # Should return True\n",
        "print()\n",
        "print(palindrome('a'))  # Should return True\n",
        "print()\n",
        "print(palindrome('bubble'))  # Should return False\n",
        "print()\n",
        "print(palindrome('noon'))  # Should return True\n",
        "print()\n",
        "print(palindrome('tenet'))  # Should return True\n",
        "print()\n",
        "print(palindrome('treat'))  # Should return False\n",
        "print()"
      ],
      "metadata": {
        "id": "Z50jWMhcDV7s"
      },
      "execution_count": null,
      "outputs": []
    }
  ]
}