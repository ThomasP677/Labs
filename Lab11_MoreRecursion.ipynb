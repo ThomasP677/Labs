{
  "nbformat": 4,
  "nbformat_minor": 0,
  "metadata": {
    "kernelspec": {
      "display_name": "Python 3",
      "language": "python",
      "name": "python3"
    },
    "language_info": {
      "codemirror_mode": {
        "name": "ipython",
        "version": 3
      },
      "file_extension": ".py",
      "mimetype": "text/x-python",
      "name": "python",
      "nbconvert_exporter": "python",
      "pygments_lexer": "ipython3",
      "version": "3.7.3"
    },
    "colab": {
      "name": "Lab11_MoreRecursion.ipynb",
      "provenance": [],
      "collapsed_sections": []
    }
  },
  "cells": [
    {
      "cell_type": "code",
      "source": [
        "def fibonacci(n):\n",
        "    sum = 0\n",
        "    if n <= 0:\n",
        "        print('n must be greater than 0')\n",
        "        return None\n",
        "\n",
        "    for i in range(len(n)):\n",
        "        sum += (n-i) + (n-(i-1))\n",
        "\n",
        "    # recursive case\n",
        "    # this should make two recursive calls\n",
        "    # that means it makes two calls to itself with\n",
        "    # different input. What should that input be?\n",
        "    # ADD CODE HERE\n",
        "\n",
        "def fibonacci_recursive(n):\n",
        "    if n <= 0:\n",
        "        print('n must be greater than 0')\n",
        "        return None\n",
        "    if n == 1 or n == 2:\n",
        "        return 1\n",
        "    return fibonacci_recursive(n-1) + fibonacci_recursive(n-2)\n",
        "print(fibonacci_recursive(9))\n",
        "\n",
        "\n",
        "def iterative_print_backwards(test):\n",
        "    i = -1\n",
        "    for word in test:\n",
        "        print(test[i], end=' ')\n",
        "        i -= 1\n",
        "\n",
        "\n",
        "iterative_print_backwards([4, 7, 9, 2])\n",
        "\n",
        "def recursive_print_backwards(test):\n",
        "    # Go through list backwards printing each element one at a time\n",
        "    length = len(test)\n",
        "    # Base case: empty list, so nothing to print\n",
        "    if length == 0:\n",
        "        return\n",
        "\n",
        "    # Base case: single element\n",
        "    # TO DO: Check for single element and print it\n",
        "    # followed by new line and return\n",
        "    # ADD CODE HERE\n",
        "    if length == 1:\n",
        "        return 1\n",
        "    # print the last element\n",
        "    print(test[length-1], end=' ')\n",
        "    test.remove(test[length-1])\n",
        "    # # Recursive case\n",
        "    # # TO DO: Make another call to itself on a smaller list\n",
        "    # # What list should be passed to the recursive call?\n",
        "    # # ADD ONE LINE OF CODE HERE TO MAKE THE RECURSIVE CALL\n",
        "    # recursive_print_backwards(test)\n",
        "\n",
        "\n",
        "\n",
        "# Test the function by making function calls\n",
        "# You do not need to change the following line of code\n",
        "# You can add more function calls to test your function\n",
        "recursive_print_backwards([4, 7, 9, 2])\n"
      ],
      "metadata": {
        "id": "EEVsia_6Epzq"
      },
      "execution_count": null,
      "outputs": []
    }
  ]
}