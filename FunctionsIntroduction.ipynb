{
  "nbformat": 4,
  "nbformat_minor": 0,
  "metadata": {
    "colab": {
      "name": "05 FunctionsIntroduction.ipynb",
      "provenance": [],
      "include_colab_link": true
    },
    "kernelspec": {
      "display_name": "Python 3",
      "language": "python",
      "name": "python3"
    },
    "language_info": {
      "codemirror_mode": {
        "name": "ipython",
        "version": 3
      },
      "file_extension": ".py",
      "mimetype": "text/x-python",
      "name": "python",
      "nbconvert_exporter": "python",
      "pygments_lexer": "ipython3",
      "version": "3.7.3"
    }
  },
  "cells": [
    {
      "cell_type": "markdown",
      "metadata": {
        "id": "view-in-github",
        "colab_type": "text"
      },
      "source": [
        "<a href=\"https://colab.research.google.com/github/lmu-cmsi1010-fall2021/lab-notebook-originals/blob/main/FunctionsIntroduction.ipynb\" target=\"_parent\"><img src=\"https://colab.research.google.com/assets/colab-badge.svg\" alt=\"Open In Colab\"/></a>"
      ]
    },
    {
      "cell_type": "markdown",
      "metadata": {
        "id": "YCbJIxK5Bbe4"
      },
      "source": [
        "### Review of Conditional Statements\n",
        "\n",
        "Find the errors. There may be multiple errors per code cell."
      ]
    },
    {
      "cell_type": "code",
      "metadata": {
        "id": "DNoib1ZXBbe7"
      },
      "source": [
        "if True:\n",
        "print(\"true statement\")"
      ],
      "execution_count": null,
      "outputs": []
    },
    {
      "cell_type": "code",
      "metadata": {
        "id": "437cL4xMBbe8"
      },
      "source": [
        "if a and b in \"bananas\":\n",
        "print(\"bananas!\")"
      ],
      "execution_count": null,
      "outputs": []
    },
    {
      "cell_type": "code",
      "metadata": {
        "id": "v4ENSEUsBbe8"
      },
      "source": [
        "i = 0\n",
        "\n",
        "if i < 1\n",
        "    print('i is less than 1')\n",
        "elif i < 10\n",
        "    print('i is less than 10')"
      ],
      "execution_count": null,
      "outputs": []
    },
    {
      "cell_type": "code",
      "metadata": {
        "id": "YJ6rcY65Bbe8"
      },
      "source": [
        "a = if\n",
        "\n",
        "a \"a\" in \"banana\":\n",
        "print(\"bananas!\")"
      ],
      "execution_count": null,
      "outputs": []
    },
    {
      "cell_type": "code",
      "metadata": {
        "id": "NP_ic354Bbe8"
      },
      "source": [
        "if naan in banana:\n",
        "    ... # do nothing\n",
        "else:\n",
        "    message = \"I like banana bread.\"\n",
        "    \n",
        "print(message)"
      ],
      "execution_count": null,
      "outputs": []
    },
    {
      "cell_type": "code",
      "metadata": {
        "id": "ZEV8fvsOBbe9"
      },
      "source": [
        "card1 = 11\n",
        "card2 = 11\n",
        "\n",
        "total = card1 + card2\n",
        "\n",
        "if 12 <= total < 21:\n",
        "    print(\"hold\")\n",
        "if total == 21:\n",
        "    print(\"blackjack!)\n",
        "if card1 and card2 == 11:\n",
        "    print('split')\n",
        "else:\n",
        "          print(\"hit\")"
      ],
      "execution_count": null,
      "outputs": []
    },
    {
      "cell_type": "markdown",
      "metadata": {
        "id": "DxdNxnPlBbe9"
      },
      "source": [
        "---\n",
        "## Functions\n",
        "\n",
        "### Calling Functions\n",
        "\n",
        "We've seen these before! Call a function by its name and pass it arguments."
      ]
    },
    {
      "cell_type": "code",
      "metadata": {
        "id": "zMgUrkq7Bbe9"
      },
      "source": [
        "int('1911')"
      ],
      "execution_count": null,
      "outputs": []
    },
    {
      "cell_type": "code",
      "metadata": {
        "id": "h71VuuLIBbe-"
      },
      "source": [
        "int(1911.999)"
      ],
      "execution_count": null,
      "outputs": []
    },
    {
      "cell_type": "code",
      "metadata": {
        "id": "aNYkGa_dBbe-"
      },
      "source": [
        "float(1911)"
      ],
      "execution_count": null,
      "outputs": []
    },
    {
      "cell_type": "code",
      "metadata": {
        "id": "yDGBB1gnBbe-"
      },
      "source": [
        "float('1911.999')"
      ],
      "execution_count": null,
      "outputs": []
    },
    {
      "cell_type": "code",
      "metadata": {
        "id": "idi5w0kdBbe-"
      },
      "source": [
        "str(1911)"
      ],
      "execution_count": null,
      "outputs": []
    },
    {
      "cell_type": "code",
      "metadata": {
        "id": "WNMffJnBBbe-"
      },
      "source": [
        "str(1911.999)"
      ],
      "execution_count": null,
      "outputs": []
    },
    {
      "cell_type": "code",
      "metadata": {
        "id": "6acDoin8Bbe-"
      },
      "source": [
        "type(int('1911'))"
      ],
      "execution_count": null,
      "outputs": []
    },
    {
      "cell_type": "code",
      "metadata": {
        "id": "HxLHS3CWBbe_"
      },
      "source": [
        "print(type(int('1911')))"
      ],
      "execution_count": null,
      "outputs": []
    },
    {
      "cell_type": "code",
      "metadata": {
        "id": "NEBod6dcBbe_"
      },
      "source": [
        "max(1911,1191)"
      ],
      "execution_count": null,
      "outputs": []
    },
    {
      "cell_type": "code",
      "metadata": {
        "id": "U-uCfsyuBbe_"
      },
      "source": [
        "# we haven't imported the math module, containing sqrt() yet\n",
        "sqrt(2) / 2"
      ],
      "execution_count": null,
      "outputs": []
    },
    {
      "cell_type": "code",
      "metadata": {
        "id": "dDe3IZLpBbe_"
      },
      "source": [
        "import math\n",
        "math.sqrt(2) / 2"
      ],
      "execution_count": null,
      "outputs": []
    },
    {
      "cell_type": "code",
      "metadata": {
        "id": "epNLsk5MBbfA"
      },
      "source": [
        "from math import sqrt\n",
        "sqrt(2) / 2"
      ],
      "execution_count": null,
      "outputs": []
    },
    {
      "cell_type": "markdown",
      "metadata": {
        "id": "UjztXHyBBbfA"
      },
      "source": [
        "Function arguments can also be expressions."
      ]
    },
    {
      "cell_type": "code",
      "metadata": {
        "id": "Q9_a0tekBbfA"
      },
      "source": [
        "degrees = 45\n",
        "\n",
        "# this line is a statement that uses variables and expressions\n",
        "x = math.sin(degrees / 360.0 * 2 * math.pi)\n",
        "x"
      ],
      "execution_count": null,
      "outputs": []
    },
    {
      "cell_type": "code",
      "metadata": {
        "id": "1E8M-s0EBbfA"
      },
      "source": [
        "x = math.exp(math.log(x+1))\n",
        "x"
      ],
      "execution_count": null,
      "outputs": []
    },
    {
      "cell_type": "markdown",
      "metadata": {
        "id": "8SBhSuQrBbfA"
      },
      "source": [
        "Almost anywhere you can put a value, you can put an arbitrary expression, with one exception: the left side of an assignment statement has to be a variable name."
      ]
    },
    {
      "cell_type": "code",
      "metadata": {
        "id": "VFzZNgwpBbfA"
      },
      "source": [
        "import time\n",
        "time.time()"
      ],
      "execution_count": null,
      "outputs": []
    },
    {
      "cell_type": "code",
      "metadata": {
        "id": "QPrVjwC4BbfB"
      },
      "source": [
        "hours = time.time()/3600\n",
        "days = hours/24\n",
        "days"
      ],
      "execution_count": null,
      "outputs": []
    },
    {
      "cell_type": "markdown",
      "metadata": {
        "id": "kmUOMPyKBbfB"
      },
      "source": [
        "***\n",
        "\n",
        "### Defining New Functions\n",
        "\n",
        "```\n",
        "def <name>(<arguments>):\n",
        "    <statements>\n",
        "```"
      ]
    },
    {
      "cell_type": "code",
      "metadata": {
        "id": "JRXqRU1RBbfB"
      },
      "source": [
        "x = .5\n",
        "\n",
        "def round(num):\n",
        "    dec = num - int(num)\n",
        "    if dec >= .5:\n",
        "        x = 1000000000\n",
        "        return int(num) + 1\n",
        "    else:\n",
        "        return int(num)\n",
        "    \n",
        "x"
      ],
      "execution_count": null,
      "outputs": []
    },
    {
      "cell_type": "code",
      "metadata": {
        "id": "gYF-qX0KBbfB"
      },
      "source": [
        "x = round(0.4)"
      ],
      "execution_count": null,
      "outputs": []
    },
    {
      "cell_type": "code",
      "metadata": {
        "id": "f_NM6i0bBbfB"
      },
      "source": [
        "x"
      ],
      "execution_count": null,
      "outputs": []
    },
    {
      "cell_type": "code",
      "metadata": {
        "id": "jptNkyQ3BbfB"
      },
      "source": [
        "def print_lyrics():\n",
        "    print(\"I'm a lumberjack, and I'm okay.\")\n",
        "    print(\"I sleep all night and I work all day.\")"
      ],
      "execution_count": null,
      "outputs": []
    },
    {
      "cell_type": "markdown",
      "metadata": {
        "id": "hTimTjCkBbfC"
      },
      "source": [
        "The syntax for calling the new function is the same as for built-in functions:"
      ]
    },
    {
      "cell_type": "code",
      "metadata": {
        "id": "zUeQFUWPBbfD"
      },
      "source": [
        "print_lyrics()"
      ],
      "execution_count": null,
      "outputs": []
    },
    {
      "cell_type": "markdown",
      "metadata": {
        "id": "zBZw_MHEBbfE"
      },
      "source": [
        "Defining a function creates a function object, which has the type function."
      ]
    },
    {
      "cell_type": "code",
      "metadata": {
        "id": "ZdF43bMmBbfG"
      },
      "source": [
        "type(print_lyrics)"
      ],
      "execution_count": null,
      "outputs": []
    },
    {
      "cell_type": "code",
      "metadata": {
        "id": "Fc9pQ7eyBbfH"
      },
      "source": [
        "def repeat_lyrics():\n",
        "    print_lyrics()\n",
        "    print_lyrics()"
      ],
      "execution_count": null,
      "outputs": []
    },
    {
      "cell_type": "code",
      "metadata": {
        "id": "YQa-Pz-rBbfI"
      },
      "source": [
        "repeat_lyrics()"
      ],
      "execution_count": null,
      "outputs": []
    },
    {
      "cell_type": "markdown",
      "metadata": {
        "id": "74gvgQ_rBbfI"
      },
      "source": [
        "Taken together, we have a program with two function definitions: `print_lyrics` and `repeat_lyrics`. Function definitions get executed just like other statements, but the effect is to create function objects. The statements inside the function do not run until the function is called, and the function definition generates no output... "
      ]
    },
    {
      "cell_type": "code",
      "metadata": {
        "id": "UYpSTx5rBbfI"
      },
      "source": [
        "# rearrange, restart runtime, see what happens here\n",
        "def repeat_lyrics():\n",
        "    print_lyrics()\n",
        "    print_lyrics()\n",
        "    \n",
        "def print_lyrics():\n",
        "    print(\"I'm a lumberjack, and I'm okay.\")\n",
        "    print(\"I sleep all night and I work all day.\")\n",
        "    \n",
        "repeat_lyrics()"
      ],
      "execution_count": null,
      "outputs": []
    },
    {
      "cell_type": "markdown",
      "metadata": {
        "id": "8Nssf0VBBbfI"
      },
      "source": [
        "**Flow of execution example**"
      ]
    },
    {
      "cell_type": "code",
      "metadata": {
        "id": "cFT6c-iTBbfJ"
      },
      "source": [
        "import time\n",
        "\n",
        "def lambchop_lyrics():\n",
        "    print('This is the song that never ends.')\n",
        "    time.sleep(2)\n",
        "    print('Yes it goes on and on my friends.')\n",
        "    time.sleep(2)\n",
        "    print('Some people started singing it not knowing what it was,')\n",
        "    time.sleep(4)\n",
        "    print('And they’ll continue singing it forever just because')\n",
        "    time.sleep(4)"
      ],
      "execution_count": null,
      "outputs": []
    },
    {
      "cell_type": "code",
      "metadata": {
        "id": "LKBpzDCdBbfJ"
      },
      "source": [
        "while True:\n",
        "    lambchop_lyrics()"
      ],
      "execution_count": null,
      "outputs": []
    },
    {
      "cell_type": "markdown",
      "metadata": {
        "id": "kfjtJpjZBbfJ"
      },
      "source": [
        "**Arguments and parameters**"
      ]
    },
    {
      "cell_type": "code",
      "metadata": {
        "id": "96u9nGdjBbfK"
      },
      "source": [
        "def print_twice(iggy):\n",
        "    print(iggy)\n",
        "    print(iggy)\n",
        "    \n",
        "print_twice('Ignatius') # iggy == \"Ignatius\" within the body of the function\n",
        "print_twice('Francis') # iggy == \"Francis\" within the body of the function"
      ],
      "execution_count": null,
      "outputs": []
    },
    {
      "cell_type": "code",
      "metadata": {
        "id": "u4hr4Hg-BbfK"
      },
      "source": [
        "print_twice(1911)"
      ],
      "execution_count": null,
      "outputs": []
    },
    {
      "cell_type": "code",
      "metadata": {
        "id": "Ukhf_pKRBbfM"
      },
      "source": [
        "city = \"San Francisco \"\n",
        "print_twice(city * 3) # iggy = city * 3"
      ],
      "execution_count": null,
      "outputs": []
    },
    {
      "cell_type": "code",
      "metadata": {
        "id": "_Lvm5REXBbfN"
      },
      "source": [
        "import math\n",
        "\n",
        "print_twice(math.sqrt(2) / 2)"
      ],
      "execution_count": null,
      "outputs": []
    },
    {
      "cell_type": "code",
      "metadata": {
        "id": "5uwQKPUpBbfN"
      },
      "source": [
        "def square(x):\n",
        "    return x * x"
      ],
      "execution_count": null,
      "outputs": []
    },
    {
      "cell_type": "code",
      "metadata": {
        "id": "L2JTHrDmBbfN"
      },
      "source": [
        "square(3)"
      ],
      "execution_count": null,
      "outputs": []
    },
    {
      "cell_type": "code",
      "metadata": {
        "id": "T2ftX428BbfN",
        "scrolled": true
      },
      "source": [
        "square('3')"
      ],
      "execution_count": null,
      "outputs": []
    },
    {
      "cell_type": "code",
      "metadata": {
        "id": "CQsF3UgTBbfN"
      },
      "source": [
        "def cat_twice(part1, part2):\n",
        "    cat = part1 + part2\n",
        "    print_twice(cat)"
      ],
      "execution_count": null,
      "outputs": []
    },
    {
      "cell_type": "code",
      "metadata": {
        "id": "iOac8Wx1BbfN"
      },
      "source": [
        "line1 = \"I know it is wet and the sun is not sunny, \"\n",
        "line2 = \"but we can have lots of good fun that is funny.\"\n",
        "\n",
        "cat_twice(line1, line2)"
      ],
      "execution_count": null,
      "outputs": []
    },
    {
      "cell_type": "code",
      "metadata": {
        "id": "Y1PrCSZkBbfN"
      },
      "source": [
        "print(cat)"
      ],
      "execution_count": null,
      "outputs": []
    },
    {
      "cell_type": "markdown",
      "metadata": {
        "id": "GU0yVGWBBbfN"
      },
      "source": [
        "**Fruitful functions**"
      ]
    },
    {
      "cell_type": "code",
      "metadata": {
        "id": "bTrRPjmeBbfN"
      },
      "source": [
        "math.sqrt(2) / 2"
      ],
      "execution_count": null,
      "outputs": []
    },
    {
      "cell_type": "code",
      "metadata": {
        "id": "27Pth0gUBbfO"
      },
      "source": [
        "degrees = 45\n",
        "x = math.sin(degrees / 360.0 * 2 * math.pi)\n",
        "y = math.sqrt(2) / 2\n",
        "x - y"
      ],
      "execution_count": null,
      "outputs": []
    },
    {
      "cell_type": "markdown",
      "metadata": {
        "id": "DMp5DOzWBbfO"
      },
      "source": [
        "**Void functions**"
      ]
    },
    {
      "cell_type": "code",
      "metadata": {
        "id": "viF7k649BbfO"
      },
      "source": [
        "result = print_twice(\"It is fun to have fun But you have to know how\")"
      ],
      "execution_count": null,
      "outputs": []
    },
    {
      "cell_type": "code",
      "metadata": {
        "id": "CVOe6dDlBbfO"
      },
      "source": [
        "type(result)"
      ],
      "execution_count": null,
      "outputs": []
    },
    {
      "cell_type": "code",
      "metadata": {
        "id": "SItvtwfnBbfO"
      },
      "source": [
        "print()"
      ],
      "execution_count": null,
      "outputs": []
    },
    {
      "cell_type": "code",
      "metadata": {
        "id": "ednzeGiUBbfO"
      },
      "source": [
        ""
      ],
      "execution_count": null,
      "outputs": []
    },
    {
      "cell_type": "markdown",
      "metadata": {
        "id": "1mx7ovSGBbfO"
      },
      "source": [
        "### Lab time\n",
        "\n",
        "Write a function called `clock` that accepts one argument (a float that is the number of seconds since the UNIX epoch) and prints the time in a clock format. "
      ]
    },
    {
      "cell_type": "code",
      "metadata": {
        "id": "tcIyva-iBbfO"
      },
      "source": [
        "# prints the current time in PST\n",
        "clock(time.time())"
      ],
      "execution_count": null,
      "outputs": []
    },
    {
      "cell_type": "code",
      "metadata": {
        "id": "W9jrdMDBBbfO"
      },
      "source": [
        "def clock(seconds_since_epoch):\n",
        "    ..."
      ],
      "execution_count": null,
      "outputs": []
    }
  ]
}