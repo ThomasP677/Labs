{
  "nbformat": 4,
  "nbformat_minor": 0,
  "metadata": {
    "kernelspec": {
      "display_name": "Python 3",
      "language": "python",
      "name": "python3"
    },
    "language_info": {
      "codemirror_mode": {
        "name": "ipython",
        "version": 3
      },
      "file_extension": ".py",
      "mimetype": "text/x-python",
      "name": "python",
      "nbconvert_exporter": "python",
      "pygments_lexer": "ipython3",
      "version": "3.7.3"
    },
    "colab": {
      "name": "05 FunctionsIntroduction.ipynb",
      "provenance": [],
      "include_colab_link": true
    }
  },
  "cells": [
    {
      "cell_type": "markdown",
      "metadata": {
        "id": "view-in-github",
        "colab_type": "text"
      },
      "source": [
        "<a href=\"https://colab.research.google.com/github/lmu-cmsi1010-fall2021/lab-notebook-originals/blob/main/FunctionsIntroduction.ipynb\" target=\"_parent\"><img src=\"https://colab.research.google.com/assets/colab-badge.svg\" alt=\"Open In Colab\"/></a>"
      ]
    },
    {
      "cell_type": "markdown",
      "metadata": {
        "id": "zikQNOxxM4-p"
      },
      "source": [
        "### Review of Conditional Statements\n",
        "\n",
        "Find the errors. There may be multiple errors per code cell."
      ]
    },
    {
      "cell_type": "code",
      "metadata": {
        "id": "3bp8Gf5CM4-q"
      },
      "source": [
        "if True:\n",
        "print(\"true statement\")"
      ],
      "execution_count": null,
      "outputs": []
    },
    {
      "cell_type": "code",
      "metadata": {
        "id": "xKpxqJQXM4-r"
      },
      "source": [
        "if a and b in \"bananas\":\n",
        "print(\"bananas!\")"
      ],
      "execution_count": null,
      "outputs": []
    },
    {
      "cell_type": "code",
      "metadata": {
        "id": "KgZqFfe4M4-r"
      },
      "source": [
        "i = 0\n",
        "\n",
        "if i < 1\n",
        "    print('i is less than 1')\n",
        "elif i < 10\n",
        "    print('i is less than 10')"
      ],
      "execution_count": null,
      "outputs": []
    },
    {
      "cell_type": "code",
      "metadata": {
        "id": "pWPPRB2sM4-r"
      },
      "source": [
        "a = if\n",
        "\n",
        "a \"a\" in \"banana\":\n",
        "print(\"bananas!\")"
      ],
      "execution_count": null,
      "outputs": []
    },
    {
      "cell_type": "code",
      "metadata": {
        "id": "xojt--yjM4-s"
      },
      "source": [
        "if naan in banana:\n",
        "    ... # do nothing\n",
        "else:\n",
        "    message = \"I like banana bread.\"\n",
        "    \n",
        "print(message)"
      ],
      "execution_count": null,
      "outputs": []
    },
    {
      "cell_type": "code",
      "metadata": {
        "id": "BtQzYtGwM4-s"
      },
      "source": [
        "card1 = 11\n",
        "card2 = 11\n",
        "\n",
        "total = card1 + card2\n",
        "\n",
        "if 12 <= total < 21:\n",
        "    print(\"hold\")\n",
        "if total == 21:\n",
        "    print(\"blackjack!)\n",
        "if card1 and card2 == 11:\n",
        "    print('split')\n",
        "else:\n",
        "          print(\"hit\")"
      ],
      "execution_count": null,
      "outputs": []
    },
    {
      "cell_type": "markdown",
      "metadata": {
        "id": "vSZ9NXIjM4-s"
      },
      "source": [
        "---\n",
        "## Functions\n",
        "\n",
        "### Calling Functions\n",
        "\n",
        "We've seen these before! Call a function by its name and pass it arguments."
      ]
    },
    {
      "cell_type": "code",
      "metadata": {
        "id": "YgTVaCZ2M4-s"
      },
      "source": [
        "int('1911')"
      ],
      "execution_count": null,
      "outputs": []
    },
    {
      "cell_type": "code",
      "metadata": {
        "id": "H9bBRYkIM4-t"
      },
      "source": [
        "int(1911.999)"
      ],
      "execution_count": null,
      "outputs": []
    },
    {
      "cell_type": "code",
      "metadata": {
        "id": "O6C-B2SrM4-t"
      },
      "source": [
        "float(1911)"
      ],
      "execution_count": null,
      "outputs": []
    },
    {
      "cell_type": "code",
      "metadata": {
        "id": "MBHqdV01M4-t"
      },
      "source": [
        "float('1911.999')"
      ],
      "execution_count": null,
      "outputs": []
    },
    {
      "cell_type": "code",
      "metadata": {
        "id": "OLHYI1AYM4-t"
      },
      "source": [
        "str(1911)"
      ],
      "execution_count": null,
      "outputs": []
    },
    {
      "cell_type": "code",
      "metadata": {
        "id": "iMf5TVEcM4-t"
      },
      "source": [
        "str(1911.999)"
      ],
      "execution_count": null,
      "outputs": []
    },
    {
      "cell_type": "code",
      "metadata": {
        "id": "DApJwCPyM4-t"
      },
      "source": [
        "type(int('1911'))"
      ],
      "execution_count": null,
      "outputs": []
    },
    {
      "cell_type": "code",
      "metadata": {
        "id": "rkQLGcyAM4-u"
      },
      "source": [
        "print(type(int('1911')))"
      ],
      "execution_count": null,
      "outputs": []
    },
    {
      "cell_type": "code",
      "metadata": {
        "id": "KBjAg1XxM4-u"
      },
      "source": [
        "max(1911,1191)"
      ],
      "execution_count": null,
      "outputs": []
    },
    {
      "cell_type": "code",
      "metadata": {
        "id": "9hmIChkUM4-u"
      },
      "source": [
        "# we haven't imported the math module, containing sqrt() yet\n",
        "sqrt(2)/2"
      ],
      "execution_count": null,
      "outputs": []
    },
    {
      "cell_type": "code",
      "metadata": {
        "id": "hZaiW2JvM4-u"
      },
      "source": [
        "import math\n",
        "math.sqrt(2)/2"
      ],
      "execution_count": null,
      "outputs": []
    },
    {
      "cell_type": "code",
      "metadata": {
        "id": "ojEc8WoUM4-u"
      },
      "source": [
        "from math import sqrt\n",
        "sqrt(2)/2"
      ],
      "execution_count": null,
      "outputs": []
    },
    {
      "cell_type": "markdown",
      "metadata": {
        "id": "8GG4ZZsPM4-u"
      },
      "source": [
        "Function arguments can also be expressions."
      ]
    },
    {
      "cell_type": "code",
      "metadata": {
        "id": "q_5eOb-xM4-v"
      },
      "source": [
        "degrees = 45\n",
        "\n",
        "# this line is a statement that uses variables and expressions\n",
        "x = math.sin(degrees / 360.0 * 2 * math.pi)\n",
        "x"
      ],
      "execution_count": null,
      "outputs": []
    },
    {
      "cell_type": "code",
      "metadata": {
        "id": "H75cIzLOM4-v"
      },
      "source": [
        "x = math.exp(math.log(x+1))\n",
        "x"
      ],
      "execution_count": null,
      "outputs": []
    },
    {
      "cell_type": "markdown",
      "metadata": {
        "id": "6J4fxh0MM4-v"
      },
      "source": [
        "Almost anywhere you can put a value, you can put an arbitrary expression, with one exception: the left side of an assignment statement has to be a variable name."
      ]
    },
    {
      "cell_type": "code",
      "metadata": {
        "id": "XSldKgueM4-v"
      },
      "source": [
        "import time\n",
        "time.time()"
      ],
      "execution_count": null,
      "outputs": []
    },
    {
      "cell_type": "code",
      "metadata": {
        "id": "mA1quRPBM4-v"
      },
      "source": [
        "hours = time.time()/3600\n",
        "days = hours/24\n",
        "days"
      ],
      "execution_count": null,
      "outputs": []
    },
    {
      "cell_type": "markdown",
      "metadata": {
        "id": "hovEmuM-M4-v"
      },
      "source": [
        "***\n",
        "\n",
        "### Defining New Functions\n",
        "\n",
        "`def <name>(<arguments>):\n",
        "    <statements>`"
      ]
    },
    {
      "cell_type": "code",
      "metadata": {
        "id": "q5YgGNxZM4-v"
      },
      "source": [
        "x = .5\n",
        "# y = 0\n",
        "def round(num):\n",
        "    dec = num - int(num)\n",
        "    if(dec >= .5):\n",
        "        x = 1000000000\n",
        "        return int(num) + 1\n",
        "    else:\n",
        "        return int(num)\n",
        "    \n",
        "x"
      ],
      "execution_count": null,
      "outputs": []
    },
    {
      "cell_type": "code",
      "metadata": {
        "id": "-QmHhqB2M4-w"
      },
      "source": [
        "x = round(0.4)"
      ],
      "execution_count": null,
      "outputs": []
    },
    {
      "cell_type": "code",
      "metadata": {
        "id": "5ZV1o61NM4-w"
      },
      "source": [
        "x"
      ],
      "execution_count": null,
      "outputs": []
    },
    {
      "cell_type": "code",
      "metadata": {
        "id": "hcZWGWsMM4-w"
      },
      "source": [
        "def print_lyrics():\n",
        "    print(\"I'm a lumberjack, and I'm okay.\")\n",
        "    print(\"I sleep all night and I work all day.\")"
      ],
      "execution_count": null,
      "outputs": []
    },
    {
      "cell_type": "markdown",
      "metadata": {
        "id": "loNp0pesM4-w"
      },
      "source": [
        "The syntax for calling the new function is the same as for built-in functions:"
      ]
    },
    {
      "cell_type": "code",
      "metadata": {
        "id": "usE4g5h8M4-w"
      },
      "source": [
        "print_lyrics()"
      ],
      "execution_count": null,
      "outputs": []
    },
    {
      "cell_type": "markdown",
      "metadata": {
        "id": "dCV1MQHGM4-w"
      },
      "source": [
        "Defining a function creates a function object, which has the type function."
      ]
    },
    {
      "cell_type": "code",
      "metadata": {
        "id": "J2XQT68XM4-w"
      },
      "source": [
        "type(print_lyrics)"
      ],
      "execution_count": null,
      "outputs": []
    },
    {
      "cell_type": "code",
      "metadata": {
        "id": "vTOOHv6CM4-x"
      },
      "source": [
        "def repeat_lyrics():\n",
        "    print_lyrics()\n",
        "    print_lyrics()"
      ],
      "execution_count": null,
      "outputs": []
    },
    {
      "cell_type": "code",
      "metadata": {
        "id": "NheRIvhZM4-x"
      },
      "source": [
        "repeat_lyrics()"
      ],
      "execution_count": null,
      "outputs": []
    },
    {
      "cell_type": "markdown",
      "metadata": {
        "id": "uz8-PRxiM4-x"
      },
      "source": [
        "Taken together, we have a program with two function definitions: `print_lyrics` and `repeat_lyrics`. Function definitions get executed just like other statements, but the effect is to create function objects. The statements inside the function do not run until the function is called, and the function definition generates no output... "
      ]
    },
    {
      "cell_type": "code",
      "metadata": {
        "id": "yLIZLcMEM4-x"
      },
      "source": [
        "# rearrange, restart kernel, see what happens here\n",
        "\n",
        "def repeat_lyrics():\n",
        "    print_lyrics()\n",
        "    print_lyrics()\n",
        "    \n",
        "def print_lyrics():\n",
        "    print(\"I'm a lumberjack, and I'm okay.\")\n",
        "    print(\"I sleep all night and I work all day.\")\n",
        "    \n",
        "repeat_lyrics()\n"
      ],
      "execution_count": null,
      "outputs": []
    },
    {
      "cell_type": "markdown",
      "metadata": {
        "id": "XvpO-EfAM4-x"
      },
      "source": [
        "**Flow of execution example**"
      ]
    },
    {
      "cell_type": "code",
      "metadata": {
        "id": "39x7ipT0M4-x"
      },
      "source": [
        "import time\n",
        "def lambchop_lyrics():\n",
        "        print(\"This is the song that never ends.\")\n",
        "        time.sleep(2)\n",
        "        print(\"Yes it goes on and on my friends.\")\n",
        "        time.sleep(2)\n",
        "        print(\"Some people started singing it not knowing what it was,\")\n",
        "        time.sleep(4)\n",
        "        print(\"And they'll continue singing it forever just because\")\n",
        "        time.sleep(4)"
      ],
      "execution_count": null,
      "outputs": []
    },
    {
      "cell_type": "code",
      "metadata": {
        "id": "MFYMSSf0M4-x"
      },
      "source": [
        "while True:\n",
        "    lambchop_lyrics()"
      ],
      "execution_count": null,
      "outputs": []
    },
    {
      "cell_type": "markdown",
      "metadata": {
        "id": "bV4YRUnnM4-x"
      },
      "source": [
        "**Arguments and parameters**"
      ]
    },
    {
      "cell_type": "code",
      "metadata": {
        "id": "25wP9G0RM4-y"
      },
      "source": [
        "def print_twice(iggy):\n",
        "    print(iggy)\n",
        "    print(iggy)\n",
        "    \n",
        "print_twice(\"Ignatius\") # iggy=\"Ignatius\" within the body of the function\n",
        "print_twice(\"Francis\") # iggy=\"Francis\" within the body of the function"
      ],
      "execution_count": null,
      "outputs": []
    },
    {
      "cell_type": "code",
      "metadata": {
        "id": "9QP0pwKiM4-y"
      },
      "source": [
        "print_twice(1911)"
      ],
      "execution_count": null,
      "outputs": []
    },
    {
      "cell_type": "code",
      "metadata": {
        "id": "yWvDrylbM4-y"
      },
      "source": [
        "city = \"San Francisco \"\n",
        "print_twice(city * 3) # iggy = city * 3"
      ],
      "execution_count": null,
      "outputs": []
    },
    {
      "cell_type": "code",
      "metadata": {
        "id": "l6Ts2W-zM4-y"
      },
      "source": [
        "import math\n",
        "print_twice(math.sqrt(2)/2)"
      ],
      "execution_count": null,
      "outputs": []
    },
    {
      "cell_type": "code",
      "metadata": {
        "id": "rzD2-t22M4-y"
      },
      "source": [
        "def square(x):\n",
        "    return x * x"
      ],
      "execution_count": null,
      "outputs": []
    },
    {
      "cell_type": "code",
      "metadata": {
        "id": "wgDRW4g9M4-y"
      },
      "source": [
        "square(3)"
      ],
      "execution_count": null,
      "outputs": []
    },
    {
      "cell_type": "code",
      "metadata": {
        "scrolled": true,
        "id": "HZEF4-OWM4-y"
      },
      "source": [
        "square('3')"
      ],
      "execution_count": null,
      "outputs": []
    },
    {
      "cell_type": "code",
      "metadata": {
        "id": "abPsmogPM4-y"
      },
      "source": [
        "def cat_twice(part1, part2):\n",
        "    cat = part1 + part2\n",
        "    print_twice(cat)"
      ],
      "execution_count": null,
      "outputs": []
    },
    {
      "cell_type": "code",
      "metadata": {
        "id": "6mWKORTlM4-y"
      },
      "source": [
        "line1 = \"I know it is wet and the sun is not sunny, \"\n",
        "line2 = \"but we can have lots of good fun that is funny.\"\n",
        "\n",
        "cat_twice(line1, line2)"
      ],
      "execution_count": null,
      "outputs": []
    },
    {
      "cell_type": "code",
      "metadata": {
        "id": "I2bvSMVTM4-y"
      },
      "source": [
        "print(cat)"
      ],
      "execution_count": null,
      "outputs": []
    },
    {
      "cell_type": "markdown",
      "metadata": {
        "id": "yKK26-YFM4-z"
      },
      "source": [
        "**Fruitful functions**"
      ]
    },
    {
      "cell_type": "code",
      "metadata": {
        "id": "XbYwRLzNM4-z"
      },
      "source": [
        "math.sqrt(2)/2"
      ],
      "execution_count": null,
      "outputs": []
    },
    {
      "cell_type": "code",
      "metadata": {
        "id": "26Fat__KM4-z"
      },
      "source": [
        "degrees = 45\n",
        "x = math.sin(degrees / 360.0 * 2 * math.pi)\n",
        "y = math.sqrt(2)/2\n",
        "x-y"
      ],
      "execution_count": null,
      "outputs": []
    },
    {
      "cell_type": "markdown",
      "metadata": {
        "id": "yHshN6MLM4-z"
      },
      "source": [
        "**Void functions**"
      ]
    },
    {
      "cell_type": "code",
      "metadata": {
        "id": "ZewdvtY7M4-z"
      },
      "source": [
        "result = print_twice(\"It is fun to have fun But you have to know how\")"
      ],
      "execution_count": null,
      "outputs": []
    },
    {
      "cell_type": "code",
      "metadata": {
        "id": "vRo8lDaQM4-z"
      },
      "source": [
        "type(result)"
      ],
      "execution_count": null,
      "outputs": []
    },
    {
      "cell_type": "code",
      "metadata": {
        "id": "UenarfDoM4-z"
      },
      "source": [
        "print()"
      ],
      "execution_count": null,
      "outputs": []
    },
    {
      "cell_type": "code",
      "metadata": {
        "id": "0mTL-JiCM4-z"
      },
      "source": [
        ""
      ],
      "execution_count": null,
      "outputs": []
    },
    {
      "cell_type": "markdown",
      "metadata": {
        "id": "QGBoJpImM4-z"
      },
      "source": [
        "### Lab time\n",
        "\n",
        "Write a function called `clock` that accepts one agrugment (a float that is the number of seconds since the UNIX epoch) and prints the time in a clock format. "
      ]
    },
    {
      "cell_type": "code",
      "metadata": {
        "id": "w8Y9F2guM4-z"
      },
      "source": [
        "# prints the current time in PST\n",
        "clock(time.time())"
      ],
      "execution_count": null,
      "outputs": []
    },
    {
      "cell_type": "code",
      "metadata": {
        "id": "G37A1-gYM4-z"
      },
      "source": [
        "def clock(seconds_since_epoch):\n",
        "    ..."
      ],
      "execution_count": null,
      "outputs": []
    }
  ]
}