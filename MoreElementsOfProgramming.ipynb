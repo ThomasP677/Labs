{
  "nbformat": 4,
  "nbformat_minor": 0,
  "metadata": {
    "kernelspec": {
      "display_name": "Python 3",
      "language": "python",
      "name": "python3"
    },
    "language_info": {
      "codemirror_mode": {
        "name": "ipython",
        "version": 3
      },
      "file_extension": ".py",
      "mimetype": "text/x-python",
      "name": "python",
      "nbconvert_exporter": "python",
      "pygments_lexer": "ipython3",
      "version": "3.7.3"
    },
    "colab": {
      "name": "03 MoreElementsOfProgramming.ipynb",
      "provenance": [],
      "include_colab_link": true
    }
  },
  "cells": [
    {
      "cell_type": "markdown",
      "metadata": {
        "id": "view-in-github",
        "colab_type": "text"
      },
      "source": [
        "<a href=\"https://colab.research.google.com/github/lmu-cmsi1010-fall2021/lab-notebook-originals/blob/main/MoreElementsOfProgramming.ipynb\" target=\"_parent\"><img src=\"https://colab.research.google.com/assets/colab-badge.svg\" alt=\"Open In Colab\"/></a>"
      ]
    },
    {
      "cell_type": "markdown",
      "metadata": {
        "id": "J6zUrwY1zVvc"
      },
      "source": [
        "# Statements and expressions\n",
        "***\n",
        "\n",
        "**expression:** combination of values, variables, and operators, expressions are evaluated \n",
        "\n",
        "**statement:** executable unit of code, statements are executed\n",
        "\n",
        "So far we've seen print, assignment, and import statements. More to come!\n",
        "\n",
        "_Example statements:_"
      ]
    },
    {
      "cell_type": "code",
      "metadata": {
        "id": "qIGIH4r-zVvd"
      },
      "source": [
        "width = 18"
      ],
      "execution_count": null,
      "outputs": []
    },
    {
      "cell_type": "code",
      "metadata": {
        "id": "oZJwc2zSzVvd"
      },
      "source": [
        "height = 12.0"
      ],
      "execution_count": null,
      "outputs": []
    },
    {
      "cell_type": "code",
      "metadata": {
        "id": "v6UB_9i2zVvd"
      },
      "source": [
        "delimiter = '.'"
      ],
      "execution_count": null,
      "outputs": []
    },
    {
      "cell_type": "code",
      "metadata": {
        "id": "V435zKTVzVvd"
      },
      "source": [
        "import datetime"
      ],
      "execution_count": null,
      "outputs": []
    },
    {
      "cell_type": "code",
      "metadata": {
        "id": "grF5z12UzVve"
      },
      "source": [
        "print('Today is ' + str(datetime.datetime.today()))"
      ],
      "execution_count": null,
      "outputs": []
    },
    {
      "cell_type": "markdown",
      "metadata": {
        "id": "PzWM7eoHzVve"
      },
      "source": [
        "_Example expressions:_"
      ]
    },
    {
      "cell_type": "code",
      "metadata": {
        "id": "j0uRBhZSzVve"
      },
      "source": [
        "width / 2"
      ],
      "execution_count": null,
      "outputs": []
    },
    {
      "cell_type": "code",
      "metadata": {
        "id": "mtXgUzXRzVve"
      },
      "source": [
        "height / 2.0"
      ],
      "execution_count": null,
      "outputs": []
    },
    {
      "cell_type": "code",
      "metadata": {
        "id": "GS-jgycizVvf"
      },
      "source": [
        "delimiter * 3"
      ],
      "execution_count": null,
      "outputs": []
    },
    {
      "cell_type": "code",
      "metadata": {
        "id": "tsO1ToMJzVvf"
      },
      "source": [
        "type(datetime.datetime.today())"
      ],
      "execution_count": null,
      "outputs": []
    },
    {
      "cell_type": "code",
      "metadata": {
        "id": "iCqklNiRzVvf"
      },
      "source": [
        "True or False"
      ],
      "execution_count": null,
      "outputs": []
    },
    {
      "cell_type": "code",
      "metadata": {
        "id": "jrE_ezIczVvf"
      },
      "source": [
        "'a' in 'bananas'"
      ],
      "execution_count": null,
      "outputs": []
    },
    {
      "cell_type": "code",
      "metadata": {
        "id": "u55kBz3WzVvf"
      },
      "source": [
        "delimiter is not ','"
      ],
      "execution_count": null,
      "outputs": []
    },
    {
      "cell_type": "markdown",
      "metadata": {
        "id": "4CleKdM3zVvf"
      },
      "source": [
        "**Nested Expressions**\n",
        "\n",
        "See [Composing Programs 1.2.5](http://composingprograms.com/pages/12-elements-of-programming.html#evaluating-nested-expressions)"
      ]
    },
    {
      "cell_type": "code",
      "metadata": {
        "id": "2b0JWaJizVvg"
      },
      "source": [
        "from operator import add, sub, mul\n",
        "\n",
        "sub(pow(2, add(2, 9)), mul(7, 4))"
      ],
      "execution_count": null,
      "outputs": []
    },
    {
      "cell_type": "code",
      "metadata": {
        "id": "5-Lq0LllzVvg"
      },
      "source": [
        "add(5*7, 8+6)"
      ],
      "execution_count": null,
      "outputs": []
    },
    {
      "cell_type": "markdown",
      "metadata": {
        "id": "k1uyj-RBzVvg"
      },
      "source": [
        "***\n",
        "## Errors\n",
        "\n",
        "See *Think Python* [Appendix A](http://greenteapress.com/thinkpython2/html/thinkpython2021.html)\n",
        "\n",
        "**syntax:** the interpreter has a problem with the code when it is translating it into byte code, often due to typos\n",
        "\n",
        "**runtime:** the interpreter finds an error while the program is running\n",
        "\n",
        "**semantic:** the program successfully executes, but produces unexpected/ incorrect results "
      ]
    },
    {
      "cell_type": "code",
      "metadata": {
        "id": "4PtvjCaEzVvg"
      },
      "source": [
        "# syntax errors\n",
        "\n",
        "print('my first \"string\"', \"and my second 'string'\")\n",
        "print(\"enclose a string in 'single' or \"double\" quotes\")"
      ],
      "execution_count": null,
      "outputs": []
    },
    {
      "cell_type": "code",
      "metadata": {
        "id": "cOIrr2UnzVvg"
      },
      "source": [
        "sub(pow(2, add(2, 10)), pow(2, 4))"
      ],
      "execution_count": null,
      "outputs": []
    },
    {
      "cell_type": "code",
      "metadata": {
        "id": "5E3jXhWKzVvh"
      },
      "source": [
        "# runtime errors\n",
        "\n",
        "myString = 'Lions and tigers and bears'\n",
        "myString[99]"
      ],
      "execution_count": null,
      "outputs": []
    },
    {
      "cell_type": "code",
      "metadata": {
        "id": "fcKGQyHSzVvh"
      },
      "source": [
        "x = 1\n",
        "while (x > 0):\n",
        "    x += 1"
      ],
      "execution_count": null,
      "outputs": []
    },
    {
      "cell_type": "code",
      "metadata": {
        "id": "xcz8y4HzzVvh"
      },
      "source": [
        "# semantic errors\n",
        "def square(x):\n",
        "    return x * x\n",
        "\n",
        "x = 8"
      ],
      "execution_count": null,
      "outputs": []
    },
    {
      "cell_type": "code",
      "metadata": {
        "id": "5VpkAzTWzVvh"
      },
      "source": [
        "if type(x / 2) is int:\n",
        "    print('x is even')\n",
        "else:\n",
        "    print('x is odd')"
      ],
      "execution_count": null,
      "outputs": []
    },
    {
      "cell_type": "code",
      "metadata": {
        "id": "_Ssj_o_UzVvh"
      },
      "source": [
        "if x % 2 == 0:\n",
        "    print('x is even')\n",
        "else:\n",
        "    print('x is odd')"
      ],
      "execution_count": null,
      "outputs": []
    },
    {
      "cell_type": "markdown",
      "metadata": {
        "id": "HCw0aMO6zVvi"
      },
      "source": [
        "## User input\n",
        "\n",
        "`input()` is a function we can use to solicit input from a user. The input function can take a string argument that becomes the prompt, or it can take no argument and simply produce a box for input. The user's input is interpreted as a string."
      ]
    },
    {
      "cell_type": "code",
      "metadata": {
        "id": "h9pdk6dpzVvi"
      },
      "source": [
        "input()"
      ],
      "execution_count": null,
      "outputs": []
    },
    {
      "cell_type": "code",
      "metadata": {
        "id": "Pit8oF-fzVvi"
      },
      "source": [
        "user_input = input()\n",
        "user_input"
      ],
      "execution_count": null,
      "outputs": []
    },
    {
      "cell_type": "code",
      "metadata": {
        "id": "lz_8uWDYzVvi"
      },
      "source": [
        "age = input('How old are you? ')\n",
        "age"
      ],
      "execution_count": null,
      "outputs": []
    },
    {
      "cell_type": "markdown",
      "metadata": {
        "id": "TW5ujHPmzVvi"
      },
      "source": [
        "We can import additional methods of collecting input."
      ]
    },
    {
      "cell_type": "code",
      "metadata": {
        "id": "roYa-n3XzVvi"
      },
      "source": [
        "from getpass import getpass\n",
        "\n",
        "real_age = getpass('How old are you really? ')"
      ],
      "execution_count": null,
      "outputs": []
    },
    {
      "cell_type": "code",
      "metadata": {
        "id": "9Jf9TLU_zVvj"
      },
      "source": [
        "from ipywidgets import widgets\n",
        "\n",
        "x = widgets.IntSlider(min=3, max=122)\n",
        "x"
      ],
      "execution_count": null,
      "outputs": []
    },
    {
      "cell_type": "code",
      "metadata": {
        "id": "SUNRxhGIzVvj"
      },
      "source": [
        "age = x.value\n",
        "age"
      ],
      "execution_count": null,
      "outputs": []
    },
    {
      "cell_type": "markdown",
      "metadata": {
        "id": "kCBDKCYDzVvj"
      },
      "source": [
        "### Mad Lib Lab Time\n",
        "**In partners or small groups:** Use the remaining class time to write Python [Mad Libs](https://en.wikipedia.org/wiki/Mad_Libs). Prompt a user for words of a certain category (e.g., noun, number, animal, adjective...) and then print the resulting story for them. You can find a template online or make one up yourself.\n",
        "\n",
        "_Optional:_ include a slider or password input that contributes to the Mad Lib experience"
      ]
    },
    {
      "cell_type": "code",
      "metadata": {
        "id": "LhAT8LJTzVvj"
      },
      "source": [
        "..."
      ],
      "execution_count": null,
      "outputs": []
    }
  ]
}