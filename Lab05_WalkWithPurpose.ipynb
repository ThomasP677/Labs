{
  "nbformat": 4,
  "nbformat_minor": 0,
  "metadata": {
    "kernelspec": {
      "display_name": "Python 3",
      "language": "python",
      "name": "python3"
    },
    "language_info": {
      "codemirror_mode": {
        "name": "ipython",
        "version": 3
      },
      "file_extension": ".py",
      "mimetype": "text/x-python",
      "name": "python",
      "nbconvert_exporter": "python",
      "pygments_lexer": "ipython3",
      "version": "3.7.3"
    },
    "colab": {
      "name": "Lab05_WalkWithPurpose.ipynb",
      "provenance": [],
      "collapsed_sections": []
    }
  },
  "cells": [
    {
      "cell_type": "code",
      "source": [
        "import random\n",
        "\n",
        "def flip_coin():\n",
        "    flip = random.randint(1, 10)\n",
        "    if flip <= 5:\n",
        "      coin = 'H'\n",
        "    else:\n",
        "      coin = 'T'\n",
        "    return coin\n",
        "\n",
        "def get_steps():\n",
        "    steps = random.randint(1, 50)\n",
        "    return steps\n",
        "\n",
        "position = 50\n",
        "left_wall = 0\n",
        "right_wall = 100\n",
        "chances = 5\n",
        "for i in range(chances):\n",
        "    coin = flip_coin()\n",
        "\n",
        "    if coin == \"H\":\n",
        "        position += get_steps()\n",
        "    else:\n",
        "        position -= get_steps()\n",
        "\n",
        "    if position <= left_wall or position >= right_wall:\n",
        "        print('You win!')\n",
        "        break\n",
        "    else:\n",
        "        print('You are at position', position, 'in the room.')\n",
        "\n",
        "counter = 0\n",
        "while position >= 100 or position <= 0:\n",
        "    steps = get_steps()\n",
        "    coin1 = flip_coin()\n",
        "    coin2 = flip_coin()\n",
        "\n",
        "\n",
        "    if coin1 == coin2:\n",
        "        steps *= 2\n",
        "\n",
        "    if coin1 == \"H\":\n",
        "        position += get_steps()\n",
        "    else:\n",
        "        position -= get_steps()\n",
        "    counter += 1\n",
        "\n",
        "print('You reached the wall after', counter, 'chances.')\n",
        "\n",
        "\n",
        "\n"
      ],
      "metadata": {
        "id": "lG06RoKrVbv7"
      },
      "execution_count": null,
      "outputs": []
    }
  ]
}