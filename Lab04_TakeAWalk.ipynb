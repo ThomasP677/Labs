{
  "nbformat": 4,
  "nbformat_minor": 0,
  "metadata": {
    "kernelspec": {
      "display_name": "Python 3",
      "language": "python",
      "name": "python3"
    },
    "language_info": {
      "codemirror_mode": {
        "name": "ipython",
        "version": 3
      },
      "file_extension": ".py",
      "mimetype": "text/x-python",
      "name": "python",
      "nbconvert_exporter": "python",
      "pygments_lexer": "ipython3",
      "version": "3.7.3"
    },
    "colab": {
      "name": "Lab04_TakeAWalk.ipynb",
      "provenance": [],
      "collapsed_sections": []
    }
  },
  "cells": [
    {
      "cell_type": "code",
      "source": [
        "import random\n",
        "\n",
        "\n",
        "def flip_coin():\n",
        "    flip = random.randint(1,10)\n",
        "    if flip <= 5:\n",
        "        coin = 'H'\n",
        "    else:\n",
        "        coin = \"T\"\n",
        "    return coin\n",
        "\n",
        "\n",
        "def get_steps():\n",
        "    steps = random.randint(1,50)\n",
        "    return steps\n",
        "\n",
        "position = 50\n",
        "LEFT_WALL = 0\n",
        "RIGHT_WALL = 100\n",
        "\n",
        "coin1 = flip_coin()\n",
        "coin2 = flip_coin()\n",
        "\n",
        "\n",
        "print('First toss:', coin1, 'Second toss:', coin2)\n",
        "\n",
        "is_head1 = True if coin1 == \"H\" else False\n",
        "is_head2 = True if coin2 == \"H\" else False\n",
        "\n",
        "print(is_head1, is_head2)\n",
        "\n",
        "steps_right = get_steps()\n",
        "steps_left = get_steps()\n",
        "\n",
        "if steps_right > 50 or steps_left > 50 or steps_left < 1 or steps_right < 1:\n",
        "    steps_right = get_steps()\n",
        "    steps_left = get_steps()\n",
        "\n",
        "\n",
        "\n",
        "\n",
        "print('Your possible steps right are',  steps_right, 'or', 2*steps_right)\n",
        "print('Your possible steps left are',  steps_left, 'or', 2*steps_left)\n",
        "\n",
        "\n",
        "if is_head1 and is_head2:\n",
        "    position += steps_right\n",
        "elif not is_head2 and not is_head1:\n",
        "    position -= steps_left\n",
        "elif is_head1 or steps_right > steps_left:\n",
        "    position += ((2*steps_right) - steps_left)\n",
        "else:\n",
        "    position -= ((2 * steps_left) - steps_right)\n",
        "\n",
        "if position > RIGHT_WALL:\n",
        "    position = RIGHT_WALL\n",
        "if position < LEFT_WALL:\n",
        "    position = LEFT_WALL\n",
        "\n",
        "\n",
        "\n",
        "print('You are at position', position, 'in the room.')\n"
      ],
      "metadata": {
        "id": "X0mp3e3FRxOb"
      },
      "execution_count": null,
      "outputs": []
    }
  ]
}