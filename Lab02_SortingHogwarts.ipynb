{
  "nbformat": 4,
  "nbformat_minor": 0,
  "metadata": {
    "kernelspec": {
      "display_name": "Python 3",
      "language": "python",
      "name": "python3"
    },
    "language_info": {
      "codemirror_mode": {
        "name": "ipython",
        "version": 3
      },
      "file_extension": ".py",
      "mimetype": "text/x-python",
      "name": "python",
      "nbconvert_exporter": "python",
      "pygments_lexer": "ipython3",
      "version": "3.7.3"
    },
    "colab": {
      "name": "Lab02_SortingHogwarts.ipynb",
      "provenance": [],
      "collapsed_sections": [],
      "include_colab_link": true
    }
  },
  "cells": [
    {
      "cell_type": "markdown",
      "metadata": {
        "id": "view-in-github",
        "colab_type": "text"
      },
      "source": [
        "<a href=\"https://colab.research.google.com/github/lmu-cmsi1010-fall2021/lab-notebook-originals/blob/main/Lab02_SortingHogwarts.ipynb\" target=\"_parent\"><img src=\"https://colab.research.google.com/assets/colab-badge.svg\" alt=\"Open In Colab\"/></a>"
      ]
    },
    {
      "cell_type": "markdown",
      "metadata": {
        "id": "9aXfrLXg9seM"
      },
      "source": [
        "# Lab 02 Sorting Hogwarts\n",
        "In this lab you will practice using conditional statements in order to sort your user into a Hogwarts house.\n",
        "\n",
        "## Asking for user preferences\n",
        "We will ask users a series of questions. This code will be provided to you. You will need to save responses from users and keep track of the preferences in terms of counts for each house.\n",
        "\n"
      ]
    },
    {
      "cell_type": "markdown",
      "metadata": {
        "id": "oH_PT-1bu19E"
      },
      "source": [
        "## Counts for each House\n",
        "We will use the following integer variables to keep track of whether the response given by users should place them in the house. There is a variable for each house and we will guide you when to increment each. Remember that *increment* means to add 1 to its value."
      ]
    },
    {
      "cell_type": "code",
      "metadata": {
        "id": "O2m4hak_va-j"
      },
      "source": [
        "# Variables to keep track of responses that show preferences for each House\n",
        "# You do not need to change the code in this cell and will use these variables \n",
        "#for the rest of the lab\n",
        "# The name of each variable is a House and you will increment if the user\n",
        "# response shows preference for that House. \n",
        "gryffindor = 0\n",
        "hufflepuff = 0\n",
        "ravenclaw = 0\n",
        "slytherin = 0"
      ],
      "execution_count": null,
      "outputs": []
    },
    {
      "cell_type": "markdown",
      "metadata": {
        "id": "LCUmYgcomFGg"
      },
      "source": [
        "## First Question: \n",
        "\n"
      ]
    },
    {
      "cell_type": "code",
      "metadata": {
        "id": "5DUZ_9hPmxCi",
        "colab": {
          "base_uri": "https://localhost:8080/"
        },
        "outputId": "16c5491b-33b5-44b7-9f74-4c5fbb3c5142"
      },
      "source": [
        "# Question 1\n",
        "print(\"After I've passed away, I want people to remember me as:\")\n",
        "print('  1) The Good')\n",
        "print('  2) The Great')\n",
        "print('  3) The Wise')\n",
        "print('  4) The Bold')\n",
        "\n"
      ],
      "execution_count": null,
      "outputs": [
        {
          "output_type": "stream",
          "name": "stdout",
          "text": [
            "After I've passed away, I want people to remember me as:\n",
            "  1) The Good\n",
            "  2) The Great\n",
            "  3) The Wise\n",
            "  4) The Bold\n"
          ]
        }
      ]
    },
    {
      "cell_type": "markdown",
      "metadata": {
        "id": "GbGRzW9SwaW7"
      },
      "source": [
        "In the following cell, ask the user to enter a corresponding number from above (e.g. \"Please enter your number choice\") and save the response from the user. Remember that when a user enters a response, Python treats it as a string until told to treat as number."
      ]
    },
    {
      "cell_type": "code",
      "metadata": {
        "id": "LLzzUjIGwZix"
      },
      "source": [
        "# Prompt user to enter number choice and save the number entered as a variable."
      ],
      "execution_count": null,
      "outputs": []
    },
    {
      "cell_type": "markdown",
      "metadata": {
        "id": "5yNGFER9xNjc"
      },
      "source": [
        "In the following cell, based on the response from the user, increment the appropriate House count. You will complete the conditional statement as specified in the comments. Right now it always prints good choice. (Why?)"
      ]
    },
    {
      "cell_type": "code",
      "metadata": {
        "colab": {
          "base_uri": "https://localhost:8080/"
        },
        "id": "_lGcvdh5xw6C",
        "outputId": "e7c363d7-f956-495a-e1a8-20a184d1d86b"
      },
      "source": [
        "# Change this if statement as specified in the comments\n",
        "# TODO: if the user's input is 1, increment hufflepuff\n",
        "if 1:\n",
        "  print(\"Good choice!\")\n",
        "# TODO: Change this code into an if else statement as described below\n",
        "# TODOL if the user's input is 1, increment hufflepuff\n",
        "# TODO: if the user's input is 2, increment slytherin\n",
        "# TODO: if the user's input is 3, increment ravenclaw\n",
        "# TODO: if the user's input is 4, increment gryffindor\n",
        "# Error handling: What happens if the user's input is not 1-4?\n",
        "# This else clause can be kept as is\n",
        "else:\n",
        "    print(\"Invalid choice\")"
      ],
      "execution_count": null,
      "outputs": [
        {
          "output_type": "stream",
          "name": "stdout",
          "text": [
            "Good choice!\n"
          ]
        }
      ]
    },
    {
      "cell_type": "markdown",
      "metadata": {
        "id": "4dODrt9WnO-v"
      },
      "source": [
        "## Second Question:"
      ]
    },
    {
      "cell_type": "code",
      "metadata": {
        "id": "ncutxJBKniMh",
        "colab": {
          "base_uri": "https://localhost:8080/"
        },
        "outputId": "093c6d5f-cdaf-43f6-d7f1-a9be6b433161"
      },
      "source": [
        "print('Q2) Dawn or Dusk?')\n",
        "print('  1) Dawn')\n",
        "print('  2) Dusk')"
      ],
      "execution_count": null,
      "outputs": [
        {
          "output_type": "stream",
          "name": "stdout",
          "text": [
            "Q2) Dawn or Dusk?\n",
            "  1) Dawn\n",
            "  2) Dusk\n"
          ]
        }
      ]
    },
    {
      "cell_type": "code",
      "metadata": {
        "id": "6dSl_gTHzfBm"
      },
      "source": [
        "# Prompt user to enter number choice and save the number entered as a variable."
      ],
      "execution_count": null,
      "outputs": []
    },
    {
      "cell_type": "markdown",
      "metadata": {
        "id": "R3rSX1wpztIC"
      },
      "source": [
        "In the following cell, based on the response from the user, increment the appropriate House count. You will complete the conditional statement as specified in the comments. Right now it always prints better choice. (This is not a good way to write a conditional statement!)"
      ]
    },
    {
      "cell_type": "code",
      "metadata": {
        "colab": {
          "base_uri": "https://localhost:8080/"
        },
        "id": "Xf2dy7QWz1iQ",
        "outputId": "e040ce90-2d8f-4f0e-b96e-1e75a4e4c12c"
      },
      "source": [
        "#Change this statement as specified to increment the appropriate house based on \n",
        "#the user response\n",
        "if 1:\n",
        "  print(\"Better choice\")\n",
        "# TODO: Change this code into an if else statement as described below\n",
        "# TODO: if the answer is 1, increment gryffindor and ravenclaw\n",
        "# TODO: if the answer is 2, increment hufflepuff and slytherin\n",
        "#The else clause can be left as is\n",
        "else:\n",
        "    print(\"Invalid choice\")"
      ],
      "execution_count": null,
      "outputs": [
        {
          "output_type": "stream",
          "name": "stdout",
          "text": [
            "Better choice\n"
          ]
        }
      ]
    },
    {
      "cell_type": "markdown",
      "metadata": {
        "id": "E5-kf-6n05Fb"
      },
      "source": [
        "## Third Question:"
      ]
    },
    {
      "cell_type": "code",
      "metadata": {
        "id": "jDZDhGLQ08b0",
        "colab": {
          "base_uri": "https://localhost:8080/"
        },
        "outputId": "7be42498-077f-4069-af61-14c90b3b15a4"
      },
      "source": [
        "# Question 3\n",
        "print('Which kind of instrument most pleases your ear?')\n",
        "print('  1) The violin')\n",
        "print('  2) The trumpet')\n",
        "print('  3) The piano')\n",
        "print('  4) The drum')"
      ],
      "execution_count": null,
      "outputs": [
        {
          "output_type": "stream",
          "name": "stdout",
          "text": [
            "Which kind of instrument most pleases your ear?\n",
            "  1) The violin\n",
            "  2) The trumpet\n",
            "  3) The piano\n",
            "  4) The drum\n"
          ]
        }
      ]
    },
    {
      "cell_type": "code",
      "metadata": {
        "id": "yn1MVik70-X6"
      },
      "source": [
        "# Prompt user to enter number choice and save the number entered as a variable."
      ],
      "execution_count": null,
      "outputs": []
    },
    {
      "cell_type": "markdown",
      "metadata": {
        "id": "jrWA13-t1DII"
      },
      "source": [
        "In the following cell, based on the response from the user, increment the appropriate House count. You will complete the conditional statement as specified in the comments. Right now it always prints all sound wonderful."
      ]
    },
    {
      "cell_type": "code",
      "metadata": {
        "id": "XSZb06PT1S59",
        "colab": {
          "base_uri": "https://localhost:8080/"
        },
        "outputId": "6c45d520-6248-40fb-a674-9042e856cd3b"
      },
      "source": [
        "#Change this statement as specified to increment the appropriate house based on \n",
        "#the user response\n",
        "if 1:\n",
        "  print(\"All sound wonderful!\")\n",
        "# TODO: Change this code into an if else statement as described below\n",
        "# TODO: if the answer is 1, increment slytherin\n",
        "# TODO: if the answer is 2, increment hufflepuff\n",
        "# TODO: if the answer is 3, increment ravenclaw\n",
        "# TODO: if the answer is 4, increment gryffindor\n",
        "# This else clause can remain unchanged\n",
        "else:\n",
        "  print(\"Invalid choice\")"
      ],
      "execution_count": null,
      "outputs": [
        {
          "output_type": "stream",
          "name": "stdout",
          "text": [
            "All sound wonderful!\n"
          ]
        }
      ]
    },
    {
      "cell_type": "markdown",
      "metadata": {
        "id": "O8oF7J1OmCnQ"
      },
      "source": [
        "## Fourth Question:\n",
        "Here's where we will need to practice *nested conditional* statements. *Nested conditional* statements are *if* statements within *if* statements. Here we will ask all users the same question. However, based on their response within the *if* statement you will need to ask another question and then increment the appropriate House count. We will get this started and save the first response."
      ]
    },
    {
      "cell_type": "code",
      "metadata": {
        "colab": {
          "base_uri": "https://localhost:8080/"
        },
        "id": "GWIPxLAS2ZgN",
        "outputId": "b519025f-e59b-431c-fbc9-93850256afde"
      },
      "source": [
        "print('Do roads in nature tempt you the most?')\n",
        "print('  1) Yes')\n",
        "print('  2) No')\n",
        "\n",
        "choice= input('Please enter a number to answer:')\n",
        "select = int(choice)"
      ],
      "execution_count": null,
      "outputs": [
        {
          "name": "stdout",
          "output_type": "stream",
          "text": [
            "Do roads in nature tempt you the most?\n",
            "  1) Yes\n",
            "  2) No\n",
            "Please enter a number to answer:2\n"
          ]
        }
      ]
    },
    {
      "cell_type": "markdown",
      "metadata": {
        "id": "tuPX7Li-2YGw"
      },
      "source": [
        "Now based on the user reply, you will have to ask the user the specific type of road and then use that to increment the appropriate house count. We started out this if statement in the following cell and you will need to complete it by added nested if statements and incrementing house counts as specified in comments."
      ]
    },
    {
      "cell_type": "code",
      "metadata": {
        "id": "mCuyN8JZqPhI",
        "colab": {
          "base_uri": "https://localhost:8080/"
        },
        "outputId": "dc4afcc8-31e2-4cdd-a648-fcc12893b750"
      },
      "source": [
        "if select == 1:\n",
        "  print(\"Change this clause as below\")\n",
        "   # TODO:\n",
        "   # Ask user if prefer\n",
        "   # 1) The wide, sunny grassy lane\n",
        "   # 2) The twisting, leaf-strewn path through woods\n",
        "   # Save response as integer\n",
        "   # If grassy lane, increment hufflepuff\n",
        "   # If woods, increment gryffindor\n",
        "   # No need to worry about error checking\n",
        "elif select == 2:\n",
        "   print(\"Does nothing\")\n",
        "   # TODO:\n",
        "   # Ask user if prefer\n",
        "   # 1) The narrow, dark, lantern-lit alley\n",
        "   # 2) The cobbled street lined with ancient buildings\n",
        "   # Save response as integer\n",
        "   # If alley, increment slytherin\n",
        "   # If cobbled street, increment ravenclaw\n",
        "   # No need to worry about error checking\n",
        "else:\n",
        "  print(\"Invalid choice\")\n"
      ],
      "execution_count": null,
      "outputs": [
        {
          "output_type": "stream",
          "name": "stdout",
          "text": [
            "Does nothing\n"
          ]
        }
      ]
    },
    {
      "cell_type": "markdown",
      "metadata": {
        "id": "OIWaikgzrzdR"
      },
      "source": [
        "## Challenge! Determining Appropriate House\n",
        "Now that we have tallied all the responses, can you figure out which house has the maximum number of responses? That will be the house for the user. If there is a tie, break the tie using alphabetical order: Gryffindor, Hufflepuff, Ravenclaw, Slytherin (in that order). We will get you started and show what needs to be printed, but you need to figure out what house has the maximum count using the count variables above.\n"
      ]
    },
    {
      "cell_type": "code",
      "metadata": {
        "id": "TM3VQOMVtiU4",
        "colab": {
          "base_uri": "https://localhost:8080/"
        },
        "outputId": "a38f264b-bf09-4573-d03e-54450603fb39"
      },
      "source": [
        "# Let's have a string to keep track of the house.\n",
        "house = 'None'\n",
        "#Let's keep track of the max_count\n",
        "max = 0\n",
        "\n",
        "# How can you find the House with the max count?\n",
        "# Remember that in the event of tie the user should be sorted into\n",
        "# the House in alphabetical order, so\n",
        "# Gryffindor before Hufflepuff before Ravenclaw before Slytherin\n",
        "# Could comparing house counts in that order help you find the max?\n",
        "\n",
        "# if gryffindor is more than the current max, update max and set house to 'Gryffindor'\n",
        "if gryffindor > max:\n",
        "   house = 'Gryffindor'\n",
        "   max = gryffindor\n",
        "\n",
        "\n",
        "\n",
        "# The following code does not need to be changed.\n",
        "# If the user entered all invalid responses and no house has any counts\n",
        "# the user cannot be sorted into a house, so it is fine if house is \"None\"\n",
        "# at this point\n",
        "\n",
        "print('Congrats on being sorted into...' + house + '!')"
      ],
      "execution_count": null,
      "outputs": [
        {
          "output_type": "stream",
          "name": "stdout",
          "text": [
            "Congrats on being sorted into...None!\n"
          ]
        }
      ]
    },
    {
      "cell_type": "markdown",
      "metadata": {
        "id": "dKL0LYd-E4JB"
      },
      "source": [
        "### Reflections\n",
        "Add a text cell below to answer the following questions:\n",
        "1. What do you feel more confident about after completing this lab?\n",
        "2. What do you feel you can use more help with after completing this lab?\n",
        "3. Do you have any constructive suggestions on how we can help you or improve this lab?"
      ]
    },
    {
      "cell_type": "markdown",
      "metadata": {
        "id": "gB1aHDpyFYey"
      },
      "source": [
        "### Save your work to GitHub\n",
        "Please save this notebook to your lab repository."
      ]
    }
  ]
}