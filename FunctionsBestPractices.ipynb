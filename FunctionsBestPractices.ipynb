{
  "nbformat": 4,
  "nbformat_minor": 0,
  "metadata": {
    "kernelspec": {
      "display_name": "Python 3",
      "language": "python",
      "name": "python3"
    },
    "language_info": {
      "codemirror_mode": {
        "name": "ipython",
        "version": 3
      },
      "file_extension": ".py",
      "mimetype": "text/x-python",
      "name": "python",
      "nbconvert_exporter": "python",
      "pygments_lexer": "ipython3",
      "version": "3.7.3"
    },
    "colab": {
      "name": "06 FunctionsBestPractices.ipynb",
      "provenance": [],
      "include_colab_link": true
    }
  },
  "cells": [
    {
      "cell_type": "markdown",
      "metadata": {
        "id": "view-in-github",
        "colab_type": "text"
      },
      "source": [
        "<a href=\"https://colab.research.google.com/github/lmu-cmsi1010-fall2021/lab-notebook-originals/blob/main/FunctionsBestPractices.ipynb\" target=\"_parent\"><img src=\"https://colab.research.google.com/assets/colab-badge.svg\" alt=\"Open In Colab\"/></a>"
      ]
    },
    {
      "cell_type": "markdown",
      "metadata": {
        "id": "bmaRuGIKMvV2"
      },
      "source": [
        "### Designing Functions\n",
        "\n",
        "Most of the following examples are from [Composing Programs 1.4](http://composingprograms.com/pages/14-designing-functions.html)."
      ]
    },
    {
      "cell_type": "markdown",
      "metadata": {
        "id": "_L0LDnj0MvV4"
      },
      "source": [
        "***\n",
        "**Documented, DRY, and general purpose functions**"
      ]
    },
    {
      "cell_type": "code",
      "metadata": {
        "id": "jU0HRW9kMvV5"
      },
      "source": [
        "def pressure(v, t, n):\n",
        "    \"\"\"Compute the pressure in pascals of an ideal gas.\n",
        "\n",
        "    Applies the ideal gas law: http://en.wikipedia.org/wiki/Ideal_gas_law\n",
        "\n",
        "    v -- volume of gas, in cubic meters\n",
        "    t -- absolute temperature in degrees kelvin\n",
        "    n -- particles of gas\n",
        "    \"\"\"\n",
        "    k = 1.38e-23  # Boltzmann's constant\n",
        "    return n * k * t / v"
      ],
      "execution_count": null,
      "outputs": []
    },
    {
      "cell_type": "code",
      "metadata": {
        "id": "bLT6uiO0MvV6"
      },
      "source": [
        "help(pressure)"
      ],
      "execution_count": null,
      "outputs": []
    },
    {
      "cell_type": "markdown",
      "metadata": {
        "id": "ieLGm9hXMvV6"
      },
      "source": [
        "***\n",
        "**Default Arguments**\n",
        "\n",
        "Notice how the behavior of the `=` depends on the context."
      ]
    },
    {
      "cell_type": "code",
      "metadata": {
        "id": "lYn0jjCIMvV7"
      },
      "source": [
        "def pressure(v, t, n=6.022e23):\n",
        "    \"\"\"Compute the pressure in pascals of an ideal gas.\n",
        "\n",
        "    Applies the ideal gas law: http://en.wikipedia.org/wiki/Ideal_gas_law\n",
        "\n",
        "    v -- volume of gas, in cubic meters\n",
        "    t -- absolute temperature in degrees kelvin\n",
        "    n -- particles of gas (default one mole)\n",
        "    \"\"\"\n",
        "    k = 1.38e-23  # Boltzmann's constant\n",
        "    return n * k * t / v"
      ],
      "execution_count": null,
      "outputs": []
    },
    {
      "cell_type": "code",
      "metadata": {
        "id": "Y9quz0HsMvV8"
      },
      "source": [
        "pressure(1, 273.15)"
      ],
      "execution_count": null,
      "outputs": []
    },
    {
      "cell_type": "code",
      "metadata": {
        "id": "UWFdeJnQMvV8"
      },
      "source": [
        "pressure(1, 273.15, 3 * 6.022e23)"
      ],
      "execution_count": null,
      "outputs": []
    },
    {
      "cell_type": "code",
      "metadata": {
        "id": "aPgaU_J0MvV9"
      },
      "source": [
        "def defaults(a, b, c='C', d='D'):\n",
        "    \"\"\"Print the arguments\n",
        "    \n",
        "    a -- first argument\n",
        "    b -- second argument\n",
        "    c -- third argument (default 'C')\n",
        "    d -- third argument (default 'D')\n",
        "    \"\"\"\n",
        "    print(a)\n",
        "    print(b)\n",
        "    print(c)\n",
        "    print(d)"
      ],
      "execution_count": null,
      "outputs": []
    },
    {
      "cell_type": "code",
      "metadata": {
        "id": "d4HWRYiEMvV9"
      },
      "source": [
        "defaults(\"a\",\"b\")"
      ],
      "execution_count": null,
      "outputs": []
    },
    {
      "cell_type": "code",
      "metadata": {
        "id": "swB2lJ7JMvV9"
      },
      "source": [
        "defaults(\"a\",\"b\",\"c\",\"d\")"
      ],
      "execution_count": null,
      "outputs": []
    },
    {
      "cell_type": "code",
      "metadata": {
        "id": "1XbF6e8oMvV-"
      },
      "source": [
        "defaults(\"a\",\"b\",\"d\")"
      ],
      "execution_count": null,
      "outputs": []
    },
    {
      "cell_type": "code",
      "metadata": {
        "id": "Xxx-i6h2MvV-"
      },
      "source": [
        "help(defaults)"
      ],
      "execution_count": null,
      "outputs": []
    },
    {
      "cell_type": "markdown",
      "metadata": {
        "id": "4zTw3gaTMvV-"
      },
      "source": [
        "We only _need_ to use `=` when the order is not obvious."
      ]
    },
    {
      "cell_type": "code",
      "metadata": {
        "id": "6IVr5IkSMvV-"
      },
      "source": [
        "defaults(a=\"ay\", b=\"bee\",c=\"see\",d=\"dee\")"
      ],
      "execution_count": null,
      "outputs": []
    },
    {
      "cell_type": "code",
      "metadata": {
        "id": "TPVWFFZzMvV_"
      },
      "source": [
        "defaults(\"ay\", \"bee\",\"see\",\"dee\")"
      ],
      "execution_count": null,
      "outputs": []
    },
    {
      "cell_type": "code",
      "metadata": {
        "id": "fmjF2xBOMvV_"
      },
      "source": [
        "defaults(\"ay\", \"bee\",c=\"see\",d=\"dee\")"
      ],
      "execution_count": null,
      "outputs": []
    },
    {
      "cell_type": "code",
      "metadata": {
        "id": "SlTD_y4HMvV_"
      },
      "source": [
        "defaults(\"ay\", \"bee\",d=\"see\",c=\"dee\")"
      ],
      "execution_count": null,
      "outputs": []
    },
    {
      "cell_type": "markdown",
      "metadata": {
        "id": "nWyThneJMvWA"
      },
      "source": [
        "***\n",
        "#### Sneak peak at `for` loops..."
      ]
    },
    {
      "cell_type": "code",
      "metadata": {
        "id": "6Pdk-JbgMvWA"
      },
      "source": [
        "for i in range(4):\n",
        "    print(\"do something\")"
      ],
      "execution_count": null,
      "outputs": []
    },
    {
      "cell_type": "code",
      "metadata": {
        "id": "3TSZAuonMvWA"
      },
      "source": [
        "for character in \"oranges\":\n",
        "    print(character)"
      ],
      "execution_count": null,
      "outputs": []
    },
    {
      "cell_type": "markdown",
      "metadata": {
        "id": "DhVjTpMOMvWA"
      },
      "source": [
        "***\n",
        "### Lab Time ###\n",
        "\n",
        "Write a function that solves $ a^2 + b^2 = c^2$ for $c$ given $a$ and $b$ as arguments. Your function should be documented, DRY, general purpose, i.e., can be used to calculate c for any triangle, and follow proper conventions for variable names. Do not use input statements."
      ]
    },
    {
      "cell_type": "code",
      "metadata": {
        "id": "2swcHCVFMvWB"
      },
      "source": [
        "..."
      ],
      "execution_count": null,
      "outputs": []
    },
    {
      "cell_type": "markdown",
      "metadata": {
        "id": "eUYFXq8qMvWB"
      },
      "source": [
        "If you are given three sticks, you may or may not be able to arrange them in a triangle. For example, if one of the sticks is twelve inches long and the other two are one inch long, you will not be able to get the short sticks to meet in the middle. For any three lengths, there is a simple test to see if it is possible to form a triangle: If _any_ of the three lengths is greater than or equal to the sum of the other two, then you cannot form a triangle. Otherwise, you can. Write a function named `is_triangle` that accepts 3 stick lengths (numbers) as arguments, and returns either `True` or `False`, depending on whether you can or cannot form a triangle from sticks with the given lengths. Your function should be documented, DRY, general purpose, and follow proper conventions for variable names. Do not use input statements."
      ]
    },
    {
      "cell_type": "code",
      "metadata": {
        "id": "W0ZSdpExMvWB"
      },
      "source": [
        "..."
      ],
      "execution_count": null,
      "outputs": []
    },
    {
      "cell_type": "markdown",
      "metadata": {
        "id": "QCQnzBvuMvWB"
      },
      "source": [
        "![title](https://cdn1.vectorstock.com/i/1000x1000/32/85/abstract-soft-pastel-triangles-background-vector-21563285.jpg)"
      ]
    }
  ]
}