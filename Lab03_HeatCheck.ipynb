{
  "nbformat": 4,
  "nbformat_minor": 0,
  "metadata": {
    "kernelspec": {
      "display_name": "Python 3",
      "language": "python",
      "name": "python3"
    },
    "language_info": {
      "codemirror_mode": {
        "name": "ipython",
        "version": 3
      },
      "file_extension": ".py",
      "mimetype": "text/x-python",
      "name": "python",
      "nbconvert_exporter": "python",
      "pygments_lexer": "ipython3",
      "version": "3.7.3"
    },
    "colab": {
      "name": "Lab03_HeatCheck.ipynb",
      "provenance": [],
      "collapsed_sections": []
    }
  },
  "cells": [
    {
      "cell_type": "code",
      "source": [
        "def print_as_fahrenheit(c):\n",
        "    f = ((9.0 / 5.0) * c) + 32.0\n",
        "    print(c, 'C ==', f, 'F')\n",
        "\n",
        "def print_as_celsius(f):\n",
        "    c =(f-32) * 5 / 9\n",
        "    print(f, 'F ==', c, 'C')\n",
        "\n",
        "print_as_fahrenheit(37)\n",
        "print_as_celsius(98.6)\n",
        "\n",
        "\n",
        "def miles_to_meters(miles):\n",
        "    meters = miles * 1609.344\n",
        "    return meters\n",
        "\n",
        "\n",
        "mile_test = 5\n",
        "meter_test = miles_to_meters(mile_test)\n",
        "print(mile_test , 'miles ==', meter_test, 'meters')\n",
        "def calculate_total_function(price=float, percent=int):\n",
        "    total = price + (price * (float(percent)/100))\n",
        "    return total\n",
        "\n",
        "test_price = 79.75\n",
        "test_percent = 15\n",
        "\n",
        "example = calculate_total_function(test_price,test_percent)\n",
        "print(example)"
      ],
      "metadata": {
        "id": "4em_2wdxQUjo"
      },
      "execution_count": null,
      "outputs": []
    }
  ]
}