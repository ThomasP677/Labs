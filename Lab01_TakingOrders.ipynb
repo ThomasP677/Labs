{
  "nbformat": 4,
  "nbformat_minor": 0,
  "metadata": {
    "kernelspec": {
      "display_name": "Python 3",
      "language": "python",
      "name": "python3"
    },
    "language_info": {
      "codemirror_mode": {
        "name": "ipython",
        "version": 3
      },
      "file_extension": ".py",
      "mimetype": "text/x-python",
      "name": "python",
      "nbconvert_exporter": "python",
      "pygments_lexer": "ipython3",
      "version": "3.7.3"
    },
    "colab": {
      "name": "Lab01_TakingOrders.ipynb",
      "provenance": [],
      "collapsed_sections": [],
      "include_colab_link": true
    }
  },
  "cells": [
    {
      "cell_type": "markdown",
      "metadata": {
        "id": "view-in-github",
        "colab_type": "text"
      },
      "source": [
        "<a href=\"https://colab.research.google.com/github/lmu-cmsi1010-fall2021/lab-notebook-originals/blob/main/Lab01_TakingOrders.ipynb\" target=\"_parent\"><img src=\"https://colab.research.google.com/assets/colab-badge.svg\" alt=\"Open In Colab\"/></a>"
      ]
    },
    {
      "cell_type": "markdown",
      "metadata": {
        "id": "9aXfrLXg9seM"
      },
      "source": [
        "# Lab 01 Taking Orders\n",
        "In this lab you will practice using strings, variables, printing, and getting input from a user\n",
        "\n",
        "## Greeting your customer\n",
        "In the following cell, print a statement to greet your customers and ask their names. Save their names in a variable, so you can use it later.\n",
        "\n"
      ]
    },
    {
      "cell_type": "code",
      "metadata": {
        "colab": {
          "base_uri": "https://localhost:8080/"
        },
        "id": "BvyaiHRdlsXj",
        "outputId": "eebdd535-ba0f-41d3-81ef-3839cdd8d035"
      },
      "source": [
        "# Greet your customer and ask for their name\n",
        "print('Hello, what is your name?')\n",
        "# Save their name in a variable\n",
        "name = input()"
      ],
      "execution_count": null,
      "outputs": [
        {
          "name": "stdout",
          "output_type": "stream",
          "text": [
            "Hello, what is your name?\n",
            "Sandra\n"
          ]
        }
      ]
    },
    {
      "cell_type": "markdown",
      "metadata": {
        "id": "LCUmYgcomFGg"
      },
      "source": [
        "## Ask for their order by name\n",
        "In the following cell repeat the customer's name and ask for drink and meal order. Remember to save the drink as a variable and also save the meal as another variable.\n"
      ]
    },
    {
      "cell_type": "code",
      "metadata": {
        "colab": {
          "base_uri": "https://localhost:8080/"
        },
        "id": "5DUZ_9hPmxCi",
        "outputId": "0073c12f-d08a-4555-fd3d-83efd9546da0"
      },
      "source": [
        "# Use the customer's name to ask for drink order\n",
        "print(name+', what would you like to drink?')\n",
        "drink = input()\n",
        "print(name,', what would you like for your meal?')\n",
        "meal = input()\n"
      ],
      "execution_count": null,
      "outputs": [
        {
          "name": "stdout",
          "output_type": "stream",
          "text": [
            "Sandra, what would you like to drink?\n",
            "cola\n",
            "Sandra , what would you like for your meal?\n",
            "pizza\n"
          ]
        }
      ]
    },
    {
      "cell_type": "markdown",
      "metadata": {
        "id": "4dODrt9WnO-v"
      },
      "source": [
        "## Repeat their order \n",
        "In the following cell, thank your customer by name and repeat their order to them. Make sure you use the correct variables when you repeat it."
      ]
    },
    {
      "cell_type": "code",
      "metadata": {
        "colab": {
          "base_uri": "https://localhost:8080/"
        },
        "id": "ncutxJBKniMh",
        "outputId": "286696b6-2793-4c86-c091-2558d6119579"
      },
      "source": [
        "# Change this code to make sure that you are using the correct customer name, drink, and meal.\n",
        "# Scaffolding code may be strings without variable names?\n",
        "print('Thank you for your order,'+ name)\n",
        "print('Please let me repeat your order for you.')\n",
        "print('I have that you ordered ' + drink + ' for drink and ' + meal +' for meal.')"
      ],
      "execution_count": null,
      "outputs": [
        {
          "output_type": "stream",
          "name": "stdout",
          "text": [
            "Thank you for your order,Sandra\n",
            "Please let me repeat your order for you.\n",
            "I have that you ordered cola for drink and pizza for meal.\n"
          ]
        }
      ]
    },
    {
      "cell_type": "markdown",
      "metadata": {
        "id": "O8oF7J1OmCnQ"
      },
      "source": [
        "## Challenge! Figuring out your bill!\n",
        "Since we didn't have a menu, we don't know what our meals should cost. It doesn't matter because this restaurant tells you how much your total bill is and the percentage your tip is of your original bill. Tax is always 10% of the original bill. It randomly chooses your total bill and tip percentage for you. Can you use this information to find out what your original bill costs before the tip?"
      ]
    },
    {
      "cell_type": "code",
      "metadata": {
        "colab": {
          "base_uri": "https://localhost:8080/"
        },
        "id": "mCuyN8JZqPhI",
        "outputId": "ffb39eb8-23c4-4b4b-e045-09799c23dc79"
      },
      "source": [
        "import random\n",
        "# We select a random float between 10 and 30 for the total bill\n",
        "total_bill = round(random.uniform(10,30),2)\n",
        "# We select a random integer tip percentage amount between 10 and 25 \n",
        "tip = random.randint(10,25)\n",
        "print('Thank you. Your total bill is $' + str(total_bill) + '. Your tip percentage is ' + str(tip) +'%. Tax is 10%.')"
      ],
      "execution_count": null,
      "outputs": [
        {
          "output_type": "stream",
          "name": "stdout",
          "text": [
            "Thank you. Your total bill is $17.55. Your tip percentage is 23%. Tax is 10%.\n"
          ]
        }
      ]
    },
    {
      "cell_type": "markdown",
      "metadata": {
        "id": "OIWaikgzrzdR"
      },
      "source": [
        "Edit the following cell to figure out what your original bill was. We print it, but right now we always print the same value for the original bill"
      ]
    },
    {
      "cell_type": "code",
      "metadata": {
        "colab": {
          "base_uri": "https://localhost:8080/"
        },
        "id": "TM3VQOMVtiU4",
        "outputId": "0b2c5d77-f9d1-4faf-c235-5582751e0eee"
      },
      "source": [
        "# Change this code below to figure out your original bill. Right now, it is always 10.\n",
        "original_bill = 10\n",
        "#original_bill = round(total_bill/(1+((10+tip)/100)),2)\n",
        "# No need to change below\n",
        "print('Your original bill is $' + str(original_bill) + '.')"
      ],
      "execution_count": null,
      "outputs": [
        {
          "output_type": "stream",
          "name": "stdout",
          "text": [
            "Your original bill is $13.2.\n"
          ]
        }
      ]
    },
    {
      "cell_type": "markdown",
      "metadata": {
        "id": "dKL0LYd-E4JB"
      },
      "source": [
        "### Reflections\n",
        "Add a text cell below to answer the following questions:\n",
        "1. What do you feel more confident about after completing this lab?\n",
        "2. What do you feel you can use more help with after completing this lab?\n",
        "3. Do you have any constructive suggestions on how we can help you or improve this lab?"
      ]
    },
    {
      "cell_type": "markdown",
      "metadata": {
        "id": "gB1aHDpyFYey"
      },
      "source": [
        "### Save your work to GitHub\n",
        "Please save this notebook to your lab repository."
      ]
    }
  ]
}