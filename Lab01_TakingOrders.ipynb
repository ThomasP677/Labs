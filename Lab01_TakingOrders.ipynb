{
  "nbformat": 4,
  "nbformat_minor": 0,
  "metadata": {
    "kernelspec": {
      "display_name": "Python 3",
      "language": "python",
      "name": "python3"
    },
    "language_info": {
      "codemirror_mode": {
        "name": "ipython",
        "version": 3
      },
      "file_extension": ".py",
      "mimetype": "text/x-python",
      "name": "python",
      "nbconvert_exporter": "python",
      "pygments_lexer": "ipython3",
      "version": "3.7.3"
    },
    "colab": {
      "name": "Lab01_TakingOrders.ipynb",
      "provenance": [],
      "collapsed_sections": []
    }
  },
  "cells": [
    {
      "cell_type": "code",
      "source": [
        "import random\n",
        "\n",
        "\n",
        "\n",
        "\n",
        "def greeting():\n",
        "    name = input(\"Hello! what is your name? \")\n",
        "    return name\n",
        "\n",
        "def order(name):\n",
        "    drink = input(name + \" What type of drink do you want? \")\n",
        "\n",
        "    meal = input(name + \" What meal would do you want? \")\n",
        "\n",
        "    print(\"So I have a \" + drink + \" and a \" + meal + \" is that all \" + name +\" ?\")\n",
        "\n",
        "def bill():\n",
        "    total_bill = round(random.uniform(10,30),2)\n",
        "\n",
        "    tip = random.randint(10, 25)\n",
        "    print('Thank you. Your total bill is $' + str(total_bill) + '. Your tip percentage is ' + str(tip) +'%. Tax is 10%')\n",
        "\n",
        "def main():\n",
        "    order(greeting())\n",
        "    bill()\n",
        "\n",
        "if __name__ == '__main__':\n",
        "    main()"
      ],
      "metadata": {
        "id": "SiRK_K9t4id0",
        "outputId": "64c98e2e-5109-41a1-92e6-c5abd3f452ae",
        "colab": {
          "base_uri": "https://localhost:8080/"
        }
      },
      "execution_count": 1,
      "outputs": [
        {
          "output_type": "stream",
          "name": "stdout",
          "text": [
            "Hello! what is your name? thomas\n",
            "thomas What type of drink do you want? soda\n",
            "thomas What meal would do you want? as\n",
            "So I have a soda and a as is that all thomas ?\n",
            "Thank you. Your total bill is $29.77. Your tip percentage is 22%. Tax is 10%\n"
          ]
        }
      ]
    }
  ]
}