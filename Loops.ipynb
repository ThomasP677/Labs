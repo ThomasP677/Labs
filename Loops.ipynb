{
  "nbformat": 4,
  "nbformat_minor": 0,
  "metadata": {
    "colab": {
      "name": "07 Loops.ipynb",
      "provenance": [],
      "authorship_tag": "ABX9TyMOIFPCkRA0KLHLsWDoN6Oe",
      "include_colab_link": true
    },
    "kernelspec": {
      "name": "python3",
      "display_name": "Python 3"
    },
    "language_info": {
      "name": "python"
    }
  },
  "cells": [
    {
      "cell_type": "markdown",
      "metadata": {
        "id": "view-in-github",
        "colab_type": "text"
      },
      "source": [
        "<a href=\"https://colab.research.google.com/github/lmu-cmsi1010-fall2021/lab-notebook-originals/blob/main/Loops.ipynb\" target=\"_parent\"><img src=\"https://colab.research.google.com/assets/colab-badge.svg\" alt=\"Open In Colab\"/></a>"
      ]
    },
    {
      "cell_type": "markdown",
      "metadata": {
        "id": "Oe-j3Q90Akeo"
      },
      "source": [
        "### Loops (Iteration)\n",
        "\n",
        "For more details on this topic, make sure to read [Think Python](https://greenteapress.com/thinkpython2/thinkpython2.pdf) chapter 7!\n",
        "\n",
        "***\n",
        "**Review: Reassigning variables**\n",
        "\n",
        "The `=` as an assignment operator does not have the same implications as a mathematical *equals*, as in always equals."
      ]
    },
    {
      "cell_type": "code",
      "metadata": {
        "id": "3VS21pnJPVGx"
      },
      "source": [
        "x = 5\n",
        "x"
      ],
      "execution_count": null,
      "outputs": []
    },
    {
      "cell_type": "code",
      "metadata": {
        "id": "xk0t2Z2dPVGx"
      },
      "source": [
        "x = 7\n",
        "x"
      ],
      "execution_count": null,
      "outputs": []
    },
    {
      "cell_type": "code",
      "metadata": {
        "id": "_NdeiuGkPVGx"
      },
      "source": [
        "a = 5\n",
        "b = a    # a and b are now equal\n",
        "a = 3    # a and b are no longer equal\n",
        "b"
      ],
      "execution_count": null,
      "outputs": []
    },
    {
      "cell_type": "markdown",
      "metadata": {
        "id": "ZGSaOao1PVGy"
      },
      "source": [
        "**Best practice:** Use variable reassignment with caution–if the values of variables change frequently, it can make the code difficult to read and debug.\n",
        "\n",
        "**Updating variables:** This is a special case of reassignment where the new value of a variable depends on the old value."
      ]
    },
    {
      "cell_type": "code",
      "metadata": {
        "id": "sEavwJScPVGy"
      },
      "source": [
        "i = i + 1 # Not a paradox! The `i` on the right is \"what it is now.\"\n",
        "          # The `i` on the left is \"what it should be after this statement.\""
      ],
      "execution_count": null,
      "outputs": []
    },
    {
      "cell_type": "code",
      "metadata": {
        "id": "U2poIgnvPVGy"
      },
      "source": [
        "i = 0     # Before we can update a variable, we need to *initialize* it\n",
        "i = i + 1 # a.k.a. Increment\n",
        "i = i - 1 # a.k.a. Decrement\n",
        "i"
      ],
      "execution_count": null,
      "outputs": []
    },
    {
      "cell_type": "markdown",
      "metadata": {
        "id": "k9nqG0b_YPO6"
      },
      "source": [
        "***\n",
        "**`while` Loops**\n",
        "\n",
        "`while` loops have _uncertainty_—they will repeat until a condition becomes `False` but, depending on the code, there is no guarantee of when that will happen.\n",
        "\n",
        "The format of a `while` loop is as follows:\n",
        "```python\n",
        "    while <CONDITION>:\n",
        "        <BODY>\n",
        "```\n",
        "\n",
        "The `<CONDITION>` can be any expression that results in a Boolean value (`True` or `False`). You can use any combination of operators, including `not`, `and`, and `or`, as long as the final result is of type `bool`.\n",
        "\n",
        "In practice, the programmer of a `while` loop has a plan in mind for when this condition becomes `False`."
      ]
    },
    {
      "cell_type": "code",
      "metadata": {
        "id": "fUiLRXT2AXg9"
      },
      "source": [
        "import random\n",
        "\n",
        "answer = random.randint(1, 10)\n",
        "guess = 0 # Guarantees that we enter the loop.\n",
        "\n",
        "while guess != answer:\n",
        "    print('I am thinking of a number from 1 to 10')\n",
        "    guess = int(input('Give me a guess: '))\n",
        "\n",
        "print('Yay, you got it! The number was', answer)"
      ],
      "execution_count": null,
      "outputs": []
    },
    {
      "cell_type": "markdown",
      "metadata": {
        "id": "9WHNV3eaaoHS"
      },
      "source": [
        "Don’t forget that Python uses indentation to tell when the part to repeat is finished! Even blank lines don’t end a `while` loop as long as they are indented."
      ]
    },
    {
      "cell_type": "code",
      "metadata": {
        "id": "TDwt6TsVbP4y"
      },
      "source": [
        "countdown = 5\n",
        "while countdown > 0:\n",
        "    print(countdown)\n",
        "    countdown = countdown - 1\n",
        "\n",
        "    print('Blastoff!!!')"
      ],
      "execution_count": null,
      "outputs": []
    },
    {
      "cell_type": "code",
      "metadata": {
        "id": "FxJ3vZPEbhgw"
      },
      "source": [
        "countdown = 5\n",
        "while countdown > 0:\n",
        "    print(countdown)\n",
        "    countdown = countdown - 1\n",
        "\n",
        "print('Blastoff!!!')"
      ],
      "execution_count": null,
      "outputs": []
    },
    {
      "cell_type": "markdown",
      "metadata": {
        "id": "OLT-UCQbQQWz"
      },
      "source": [
        "**Spot-check what you just read:** Note the bugs in the example below."
      ]
    },
    {
      "cell_type": "code",
      "metadata": {
        "id": "Yd_OwECUQWr1"
      },
      "source": [
        "import time\n",
        "\n",
        "def countdown(n)   # error, need : at the end of function header\n",
        "    while n > 0    # error, need : after while boolean expression\n",
        "        print 'n'  # error, missing parentheses \n",
        "                   # ...and we don't want to print the letter 'n' \n",
        "\n",
        "        time.sleep(1)\n",
        "        n - 1      # error, we need to update n\n",
        "\n",
        "print('Blastoff!') # error, print statement needs to be indented\n",
        "                   # because it belongs to the function"
      ],
      "execution_count": null,
      "outputs": []
    },
    {
      "cell_type": "markdown",
      "metadata": {
        "id": "jbhtZSfDZJ2k"
      },
      "source": [
        "***\n",
        "**`for` Loops**\n",
        "\n",
        "`for` loops are more *defined*—they repeat over a specific group or list of items. The loop executes once for each item.\n",
        "\n",
        "The format of a `for` loop is as follows:\n",
        "```python\n",
        "    for <ELEMENT> in <GROUP>:\n",
        "        <BODY>\n",
        "```\n",
        "\n",
        "The `<ELEMENT>` portion is an expression whose value changes each time through the loop, once for each member of `<GROUP>`.\n",
        "\n",
        "> `in` in this context is different from `in` for expressions like `'a' in 'cat'`—when used outside of a `for` loop, `in` produces a boolean that tells you whether the item on the left of `in` is part of the value on the right.\n",
        "\n"
      ]
    },
    {
      "cell_type": "code",
      "metadata": {
        "id": "gzS_d8MedC0E"
      },
      "source": [
        "first_years = ['Asa', 'Bazile', 'Cat']\n",
        "for student in first_years:\n",
        "    print('Welcome to college, ' + student + '!')"
      ],
      "execution_count": null,
      "outputs": []
    },
    {
      "cell_type": "markdown",
      "metadata": {
        "id": "cby9zmOXehZP"
      },
      "source": [
        "Try to convert the countdown `while` loop into a `for` loop:"
      ]
    },
    {
      "cell_type": "code",
      "metadata": {
        "id": "pvVGhJVCetF5"
      },
      "source": [
        "# for countdown in ...... what?"
      ],
      "execution_count": null,
      "outputs": []
    },
    {
      "cell_type": "markdown",
      "metadata": {
        "id": "6Y23tWroQ_s0"
      },
      "source": [
        "***\n",
        "**Chicken and egg: Lists and `for` loops**\n",
        "\n",
        "`for` loops in Python are strongly associated with lists. Lists are strongly associated with `for` loops. Which concept should we teach first? We’re choosing to go with `for` loops here, but we can’t help but also expose you to lists."
      ]
    },
    {
      "cell_type": "code",
      "metadata": {
        "id": "EQYxBh5ePVGz"
      },
      "source": [
        "cheeses = ['Cheddar', 'Edam', 'Gouda']\n",
        "numbers = [42, 123]\n",
        "empty = []\n",
        "\n",
        "print(cheeses, numbers, empty)"
      ],
      "execution_count": null,
      "outputs": []
    },
    {
      "cell_type": "markdown",
      "metadata": {
        "id": "bo1iH6pcPVG0"
      },
      "source": [
        "See these lists [as diagrams](http://pythontutor.com/visualize.html#code=cheeses%20%3D%20%5B'Cheddar',%20'Edam',%20'Gouda'%5D%0Anumbers%20%3D%20%5B42,%20123%5D%0Aempty%20%3D%20%5B%5D%0Arandom%20%3D%20%5B'Brie',%202.0,%205,%20%5B10,%2020%5D%5D&cumulative=false&heapPrimitives=nevernest&mode=edit&origin=opt-frontend.js&py=3&rawInputLstJSON=%5B%5D&textReferences=false)! And below, we show these lists used in different `for` loops:"
      ]
    },
    {
      "cell_type": "code",
      "metadata": {
        "id": "Qx7JqzZ0PVG0"
      },
      "source": [
        "for cheese in cheeses:\n",
        "    print(cheese)"
      ],
      "execution_count": null,
      "outputs": []
    },
    {
      "cell_type": "code",
      "metadata": {
        "id": "L_jzjEZ_PVG0"
      },
      "source": [
        "numbers"
      ],
      "execution_count": null,
      "outputs": []
    },
    {
      "cell_type": "code",
      "metadata": {
        "id": "Lqh7-0pPPVG1"
      },
      "source": [
        "len(numbers)"
      ],
      "execution_count": null,
      "outputs": []
    },
    {
      "cell_type": "code",
      "metadata": {
        "id": "oUthiP_aPVG1"
      },
      "source": [
        "for i in range(len(numbers)):\n",
        "    numbers[i] = numbers[i] * 2\n",
        "    \n",
        "numbers"
      ],
      "execution_count": null,
      "outputs": []
    },
    {
      "cell_type": "code",
      "metadata": {
        "id": "XG1lIHFRPVG1"
      },
      "source": [
        "for x in []:\n",
        "    print('This never happens.')"
      ],
      "execution_count": null,
      "outputs": []
    },
    {
      "cell_type": "code",
      "metadata": {
        "id": "Z3aqMrjzPVG1"
      },
      "source": [
        "# nested lists count as one element\n",
        "nests = ['spam', 1, ['Brie', 'Roquefort', 'Pol le Veq'], [1, 2, 3]]\n",
        "len(nests)"
      ],
      "execution_count": null,
      "outputs": []
    },
    {
      "cell_type": "code",
      "metadata": {
        "id": "5spsN3KxPVG1"
      },
      "source": [
        "for element in nests:\n",
        "    print(element)"
      ],
      "execution_count": null,
      "outputs": []
    },
    {
      "cell_type": "markdown",
      "metadata": {
        "id": "OSHCe2Iplaip"
      },
      "source": [
        "***\n",
        "**The `range` function**\n",
        "\n",
        "`for` loops in Python *must* be based on a group or list—so `for` loops like “do something 100 times” can get unwieldy if coded in “longhand.” For this, Python has the `range` function. (it’s built-in, so no `import` necessary)"
      ]
    },
    {
      "cell_type": "code",
      "metadata": {
        "id": "2xskdGi-mHhV"
      },
      "source": [
        "# With a single argument, range starts at 0!\n",
        "list(range(3))"
      ],
      "execution_count": null,
      "outputs": []
    },
    {
      "cell_type": "code",
      "metadata": {
        "id": "OWONbSATmZqq"
      },
      "source": [
        "# range can be given a start, an end, end a step.\n",
        "list(range(1, 7, 2))"
      ],
      "execution_count": null,
      "outputs": []
    },
    {
      "cell_type": "code",
      "metadata": {
        "id": "8NAV37stmlFp"
      },
      "source": [
        "# The step can be negative!\n",
        "list(range(3, 0, -1))"
      ],
      "execution_count": null,
      "outputs": []
    },
    {
      "cell_type": "markdown",
      "metadata": {
        "id": "TWjmNBd1mu_a"
      },
      "source": [
        "The `list` conversion above is only needed to see the full range. It isn’t needed in a `for` loop."
      ]
    },
    {
      "cell_type": "code",
      "metadata": {
        "id": "SBcD4Y62m6Ay"
      },
      "source": [
        "print('The even positive numbers below 20 are...')\n",
        "for even in range(2, 20, 2):\n",
        "    print(even)"
      ],
      "execution_count": null,
      "outputs": []
    },
    {
      "cell_type": "markdown",
      "metadata": {
        "id": "1l8u2tCbnRuH"
      },
      "source": [
        "Write one last version of the countdown program, using `range`:"
      ]
    },
    {
      "cell_type": "code",
      "metadata": {
        "id": "b6DdlhOPncg5"
      },
      "source": [
        "# for countdown in ...... something something range something"
      ],
      "execution_count": null,
      "outputs": []
    },
    {
      "cell_type": "markdown",
      "metadata": {
        "id": "Vna5abc_mFrB"
      },
      "source": [
        "\n",
        "**Points to ponder:** What is the difference between a `for` loop that uses `range` and a `while` loop that keeps track of a counter variable? Would you use one over the other? Why?"
      ]
    },
    {
      "cell_type": "markdown",
      "metadata": {
        "id": "gXrhit7LnqNt"
      },
      "source": [
        "***\n",
        "**Early exit: `break`**\n",
        "\n",
        "Sometimes, it can be useful to get out of a loop right away—enter `break`. When Python sees `break`, it leaves the loop, no questions asked."
      ]
    },
    {
      "cell_type": "code",
      "metadata": {
        "id": "_WdfVZipocEi"
      },
      "source": [
        "# This example seems contrived when the list is written out like this,\n",
        "# but in practice you might not know the contents of the list in advance\n",
        "# ---for example, this list might have come from a database search.\n",
        "produce = ['potato', 'okra', 'bok choi', 'hot potato', 'tomato', 'anise']\n",
        "for food in produce:\n",
        "    print('You say', food)\n",
        "\n",
        "    if (food == 'hot potato'):\n",
        "        print('Ouch!')\n",
        "        break\n",
        "\n",
        "    print('I say', food)\n",
        "\n",
        "print(\"Let's call the whole thing off 🎶\")"
      ],
      "execution_count": null,
      "outputs": []
    },
    {
      "cell_type": "markdown",
      "metadata": {
        "id": "HKVoeF90q7UO"
      },
      "source": [
        "***\n",
        "**Early restart: `continue`**\n",
        "\n",
        "`continue` is similar to `break` but does *not* end the loop. Instead it skips the rest of the loop and jumps to the next iteration or item."
      ]
    },
    {
      "cell_type": "code",
      "metadata": {
        "id": "xepGAMIqrMyT"
      },
      "source": [
        "produce = ['potato', 'okra', 'bok choi', 'hot potato', 'tomato', 'anise']\n",
        "for food in produce:\n",
        "    print('You say', food)\n",
        "\n",
        "    if (food == 'hot potato'):\n",
        "        print('Ouch!')\n",
        "        continue\n",
        "\n",
        "    print('I say', food)\n",
        "\n",
        "print(\"Let's call the whole thing off 🎶\")"
      ],
      "execution_count": null,
      "outputs": []
    },
    {
      "cell_type": "markdown",
      "metadata": {
        "id": "Bz4gNxUtro6x"
      },
      "source": [
        "***\n",
        "**Lists of lists (a.k.a. “nesting”)**\n",
        "\n",
        "The `<ELEMENT>` in a `for` loop doesn’t have to be a “simple” value. If the value in the group or list is itself a data structure, this structure can be reflected in `<ELEMENT>`."
      ]
    },
    {
      "cell_type": "code",
      "metadata": {
        "id": "06jCcV2MsHPa"
      },
      "source": [
        "profs = [['Mandy', 'assistant professor'],\n",
        "         ['Ray', 'department chair'],\n",
        "         ['Dondi', 'professor'],\n",
        "         ['Yanping', 'associate professor'],\n",
        "         ['Maggie', 'instructor'],\n",
        "         ['Jackie', 'emerita professor'],\n",
        "         ['Tina', 'dean']]\n",
        "\n",
        "for [name, position] in profs:\n",
        "    print(name, 'is the', position)"
      ],
      "execution_count": null,
      "outputs": []
    },
    {
      "cell_type": "markdown",
      "metadata": {
        "id": "XIUDjuBqsiqL"
      },
      "source": [
        "*Conditionals and expressions review*: Can you revise the code above so that the `print` says `is a` or `is an` as required by the `position`’s first letter?\n",
        "\n",
        "> **Grammar flashback:** a/an is called an *article*"
      ]
    },
    {
      "cell_type": "markdown",
      "metadata": {
        "id": "PqJrMIUtuS8V"
      },
      "source": [
        "***\n",
        "**Mix and match**\n",
        "\n",
        "Everything you have learned so far—expressions, statements, conditionals, functions, and now loops—can be mixed and matched in nearly any combination. Try to implement the following programs:"
      ]
    },
    {
      "cell_type": "code",
      "metadata": {
        "id": "aBGasoleunc1"
      },
      "source": [
        "# Write a program that iterates through a list of numbers and states\n",
        "# whether each number is divisible by 3."
      ],
      "execution_count": null,
      "outputs": []
    },
    {
      "cell_type": "code",
      "metadata": {
        "id": "QajuBLYKutYW"
      },
      "source": [
        "# Write a program that prints a \"math facts\" table, going through every\n",
        "# possible pairing in a range of numbers and displaying sum/product/etc.\n",
        "# (e.g, 1 x 1 = 1\n",
        "#       1 x 2 = 2\n",
        "#       1 x 3 = 3 ...etc.)"
      ],
      "execution_count": null,
      "outputs": []
    },
    {
      "cell_type": "code",
      "metadata": {
        "id": "BjHDuenjvLpD"
      },
      "source": [
        "# Write a function called contains_period that returns True if it is given\n",
        "# a string that has a period '.' character and returns False if not."
      ],
      "execution_count": null,
      "outputs": []
    },
    {
      "cell_type": "markdown",
      "metadata": {
        "id": "TrJfvBU9vp99"
      },
      "source": [
        "***\n",
        "**Pitfalls and gotchas**\n",
        "* Later on you will learn how to modify a list. Don’t do that during a loop!\n",
        "* `while` loops run the risk of running forever if the programmer supplies a condition that never becomes `False`. Make sure that your `while` loop “progresses” to a conclusion by updating variables that are part of its condition!\n",
        "* When doing loops within loops (nested loops), do not use the same variable at the different loop levels\n",
        "* Be very clear about what values `range` will generate for a given set of arguments. In its one-argument form, it *starts* at zero and ends *one before* the argument\n",
        "* Remember that everything inside the loop executes for each iteration—so if you are doing a loop that does a cumulative tally (sums, maximum, minimum, average, etc.), make sure that variable setup (like setting a total to 0) happens *outside* of the loop and not inside"
      ]
    },
    {
      "cell_type": "code",
      "metadata": {
        "id": "26Gd8YSBxBd9"
      },
      "source": [
        "# Find the bug.\n",
        "# 1. First, identify the bug:\n",
        "#    Try out different max_numbers to see if you get the right answer.\n",
        "# 2. Once you know the bug, try to track it down and fix it.\n",
        "def count_divisible_by_3(max_number):\n",
        "    count = 0\n",
        "    for i in range(max_number):\n",
        "        if i % 3 == 0:\n",
        "            count += 1\n",
        "\n",
        "    return count"
      ],
      "execution_count": null,
      "outputs": []
    }
  ]
}