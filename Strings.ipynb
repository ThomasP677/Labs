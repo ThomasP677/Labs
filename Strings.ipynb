{
  "nbformat": 4,
  "nbformat_minor": 0,
  "metadata": {
    "colab": {
      "name": "08 Strings.ipynb",
      "provenance": [],
      "authorship_tag": "ABX9TyP/vzGPBZKCSjVQ3L7OTUfB",
      "include_colab_link": true
    },
    "kernelspec": {
      "name": "python3",
      "display_name": "Python 3"
    },
    "language_info": {
      "name": "python"
    }
  },
  "cells": [
    {
      "cell_type": "markdown",
      "metadata": {
        "id": "view-in-github",
        "colab_type": "text"
      },
      "source": [
        "<a href=\"https://colab.research.google.com/github/lmu-cmsi1010-fall2021/lab-notebook-originals/blob/main/Strings.ipynb\" target=\"_parent\"><img src=\"https://colab.research.google.com/assets/colab-badge.svg\" alt=\"Open In Colab\"/></a>"
      ]
    },
    {
      "cell_type": "markdown",
      "metadata": {
        "id": "ep3UnbfH3lAR"
      },
      "source": [
        "### Strings\n",
        "\n",
        "For more details on this topic, make sure to read [Think Python](https://greenteapress.com/thinkpython2/thinkpython2.pdf) chapter 8!"
      ]
    },
    {
      "cell_type": "code",
      "metadata": {
        "id": "hbSZTnN03ikm"
      },
      "source": [
        "# A quick review of the basics:\n",
        "sample_string = \"kit\"\n",
        "another_sample_string = 'kat'\n",
        "\n",
        "english2spanish = {}\n",
        "english2spanish['one'] = 'uno'"
      ],
      "execution_count": null,
      "outputs": []
    },
    {
      "cell_type": "markdown",
      "metadata": {
        "id": "rAvWEn9H3CQr"
      },
      "source": [
        "Strings are ***immutable***—once created, they can’t (won’t) change. They are also *sequences* of characters, so you can loop over them!"
      ]
    },
    {
      "cell_type": "code",
      "metadata": {
        "id": "Cv9RWmcX3Q0F"
      },
      "source": [
        "# Run the prior code block before running this one.\n",
        "for letter in sample_string:\n",
        "    print(letter)"
      ],
      "execution_count": null,
      "outputs": []
    },
    {
      "cell_type": "code",
      "metadata": {
        "id": "rSPI9LZs3hoX"
      },
      "source": [
        "for character in 'This string is hardcoded—why???':\n",
        "    print(character)"
      ],
      "execution_count": null,
      "outputs": []
    },
    {
      "cell_type": "markdown",
      "metadata": {
        "id": "8MiCRt0_3zSp"
      },
      "source": [
        "***\n",
        "**Conditional and function review with strings**\n",
        "\n",
        "Write a function `has_x` that takes a string as an argument, loops through the characters in that string, and returns `True` if it contains the character `x` and `False` if not."
      ]
    },
    {
      "cell_type": "code",
      "metadata": {
        "id": "d3iJ1aXD4EY1"
      },
      "source": [
        "def has_x(string_to_check):\n",
        "    pass\n",
        "\n",
        "print(has_x('Excellent!')) # Should output True.\n",
        "print(has_x('Bogus!')) # Should output False."
      ],
      "execution_count": null,
      "outputs": []
    },
    {
      "cell_type": "markdown",
      "metadata": {
        "id": "rmwQYsXF4nKt"
      },
      "source": [
        "***\n",
        "**String operators**\n",
        "\n",
        "String _concatenation_ `+` puts two strings together."
      ]
    },
    {
      "cell_type": "code",
      "metadata": {
        "id": "qb-72M5b4urR"
      },
      "source": [
        "'Thunderbolts' + ' and ' + 'lightning'"
      ],
      "execution_count": null,
      "outputs": []
    },
    {
      "cell_type": "code",
      "metadata": {
        "id": "txCSgHlQ48F9"
      },
      "source": [
        "'Very ' + 'very ' + 'frightening' + ' me'"
      ],
      "execution_count": null,
      "outputs": []
    },
    {
      "cell_type": "markdown",
      "metadata": {
        "id": "QGWanxb55Bv4"
      },
      "source": [
        "String *repetition* `*` concatenates copies of the same string a given number of times."
      ]
    },
    {
      "cell_type": "code",
      "metadata": {
        "id": "q1ICgBpT5Pws"
      },
      "source": [
        "'Galileo ' * 5"
      ],
      "execution_count": null,
      "outputs": []
    },
    {
      "cell_type": "markdown",
      "metadata": {
        "id": "qhRcGdVC5nKL"
      },
      "source": [
        "And of course you can combine them as needed."
      ]
    },
    {
      "cell_type": "code",
      "metadata": {
        "id": "YjW6fwmN5qRf"
      },
      "source": [
        "'Galileo ' * 5 + 'Figaro magnifico!'"
      ],
      "execution_count": null,
      "outputs": []
    },
    {
      "cell_type": "markdown",
      "metadata": {
        "id": "fHW42ncj53Y0"
      },
      "source": [
        "***\n",
        "**Indexing**\n",
        "\n",
        "The individual characters in a string can be accessed individually. Remember that the first character has an index of `0`!"
      ]
    },
    {
      "cell_type": "code",
      "metadata": {
        "id": "UY-P6-AO6c1L"
      },
      "source": [
        "lyric = 'Scaramouch'\n",
        "print(lyric[1], lyric[4], lyric[6])"
      ],
      "execution_count": null,
      "outputs": []
    },
    {
      "cell_type": "markdown",
      "metadata": {
        "id": "0KERX-vy6vje"
      },
      "source": [
        "Negative index values start from the last character!"
      ]
    },
    {
      "cell_type": "code",
      "metadata": {
        "id": "tJlSVvOy61rp"
      },
      "source": [
        "lyric = 'Will you do the fandango'\n",
        "print(lyric[-1], lyric[-9], lyric[-15])"
      ],
      "execution_count": null,
      "outputs": []
    },
    {
      "cell_type": "markdown",
      "metadata": {
        "id": "lV-3xPvo7Fsm"
      },
      "source": [
        "***\n",
        "**Slicing**\n",
        "\n",
        "Placing index ranges (indices separated by a colon `:`) between the brackets will yield substrings—this is called *slicing* the string.\n",
        "\n",
        "The ending index is the character *past* the last character that you want to include in the slice.\n",
        "\n",
        "Remember that strings are immutable, so your slices are *copies* of those parts of the original string."
      ]
    },
    {
      "cell_type": "code",
      "metadata": {
        "id": "vMaTXdvz8ieg"
      },
      "source": [
        "fruit = 'strawberry'\n",
        "print(fruit[2:5])\n",
        "\n",
        "# Indices on either side of the colon are optional.\n",
        "print(fruit[:5])\n",
        "print(fruit[5:])\n",
        "\n",
        "# Negative indices work too.\n",
        "print(fruit[6:-1])\n",
        "print(fruit[-8:-5])\n",
        "\n",
        "# This is technically correct but you may as well just use the string.\n",
        "print(fruit[:])"
      ],
      "execution_count": null,
      "outputs": []
    },
    {
      "cell_type": "markdown",
      "metadata": {
        "id": "fCdx2fY993DZ"
      },
      "source": [
        "Slices can take a second colon to specify a *step size*. And yes, that step can be negative—although the way it counts can take some getting used to."
      ]
    },
    {
      "cell_type": "code",
      "metadata": {
        "id": "mFPVJwZS9_-f"
      },
      "source": [
        "fruit = 'strawberry' # Repeated so you don't need to run the previous block.\n",
        "print(fruit[5::2])\n",
        "print(fruit[4:0:-1])"
      ],
      "execution_count": null,
      "outputs": []
    },
    {
      "cell_type": "markdown",
      "metadata": {
        "id": "jDbpGdsQ_IQT"
      },
      "source": [
        "***\n",
        "**A computer science favorite: *palindromes***\n",
        "\n",
        "*Palindromes* are words that are the same whether spelled forward or backward (e.g. “radar,” “tenet”). Computer science has a strong affinity to them! (you’ll see when you learn theory)\n",
        "\n",
        "But for now, can you use what you have learned about strings so far to write an `is_palindrome` function? How short can you make that function?"
      ]
    },
    {
      "cell_type": "code",
      "metadata": {
        "id": "ssVEkUNA_oKq"
      },
      "source": [
        "def is_palindrome(word):\n",
        "    pass\n",
        "\n",
        "print(is_palindrome('not a palindrome')) # Should print False.\n",
        "print(is_palindrome('polyp')) # Should print False.\n",
        "print(is_palindrome('tenet')) # Should print True.\n",
        "\n",
        "# Ignoring spaces is more advanced; for now, count them.\n",
        "print(is_palindrome('race car')) # Should print False.\n",
        "print(is_palindrome('racecar')) # Should print True."
      ],
      "execution_count": null,
      "outputs": []
    },
    {
      "cell_type": "markdown",
      "metadata": {
        "id": "blEbxrqBASxT"
      },
      "source": [
        "***\n",
        "**String methods**\n",
        "\n",
        "String *methods* are really just functions, but the way they are written, it looks like the string is performing an action rather than being passed as an argument. This change in look motivates the change of name."
      ]
    },
    {
      "cell_type": "code",
      "metadata": {
        "id": "sWgNC7dCAjxu"
      },
      "source": [
        "# Case-changing methods.\n",
        "greeting = 'Hello, LMU!'\n",
        "print(greeting.lower()) # As opposed to lower(greeting).\n",
        "print(greeting.upper())\n",
        "print(greeting)\n",
        "greeting = greeting.upper()\n",
        "print(greeting)"
      ],
      "execution_count": null,
      "outputs": []
    },
    {
      "cell_type": "code",
      "metadata": {
        "id": "jlDNMUOmA2z4"
      },
      "source": [
        "# The split method separates a string into a list of substrings.\n",
        "greeting = 'Hello, LMU!'\n",
        "print(greeting.split()) # We split on spaces by default…\n",
        "print(greeting.split(', ')) # …but we can customize that with an argument."
      ],
      "execution_count": null,
      "outputs": []
    },
    {
      "cell_type": "markdown",
      "metadata": {
        "id": "3FtE9SlYBZr5"
      },
      "source": [
        "In order to process natural language, we need something more sophisticated. This version is called *tokenization*.\n",
        "\n",
        "This code isn’t in a runnable block because it uses a specialized library called `nltk`—this notebook doesn’t have access to that library. You would need to install it on your computer to get this code to run:\n",
        "\n",
        "```python\n",
        "from nltk.tokenize import word_tokenize\n",
        "\n",
        "greeting = 'Hello, LMU!'\n",
        "word_tokenize(greeting)\n",
        "```"
      ]
    },
    {
      "cell_type": "code",
      "metadata": {
        "id": "xLUh_elnBiks"
      },
      "source": [
        "# The join method is the reverse of split: it combines a list\n",
        "# into a single string.\n",
        "#\n",
        "# In Python, join is a method of the string that will connect\n",
        "# the items in the list.\n",
        "words = ['Hello,', 'LMU!', 'Good', 'to', 'be', 'here']\n",
        "print(' '.join(words))\n",
        "print('-'.join(words))\n",
        "print('...'.join(words))\n",
        "print('__'.join(words))"
      ],
      "execution_count": null,
      "outputs": []
    },
    {
      "cell_type": "code",
      "metadata": {
        "id": "YDUns0x9DHet"
      },
      "source": [
        "# The find method takes a substring and returns the first index\n",
        "# where the substring appears.\n",
        "greeting = 'Hello, LMU!'\n",
        "index = greeting.find('LMU!')\n",
        "\n",
        "print(index)\n",
        "print(greeting[index:])\n",
        "\n",
        "snark = 'Well well well'\n",
        "index = snark.find('well') # Remember it's the _first_ index.\n",
        "print(index)\n",
        "print(snark[index:])"
      ],
      "execution_count": null,
      "outputs": []
    },
    {
      "cell_type": "code",
      "metadata": {
        "id": "yqyLx4TwDwr5"
      },
      "source": [
        "# The replace method takes a string to replace and its replacement.\n",
        "# All instances of the former get replaced by the latter.\n",
        "greeting = 'Hello, LMU!'\n",
        "print(greeting.replace('Hello', 'Hola'))\n",
        "\n",
        "snark = 'Well well well'\n",
        "print(snark.replace('well', 'Marsha'))\n",
        "\n",
        "# Methods can be chained together. This is like nesting function\n",
        "# calls but looks more sequential.\n",
        "print(snark.replace('well', 'Marsha').replace('Well', 'Marsha'))"
      ],
      "execution_count": null,
      "outputs": []
    },
    {
      "cell_type": "markdown",
      "metadata": {
        "id": "qJZ7Sy_0Eoyq"
      },
      "source": [
        "This is just the tip of the iceberg—you can visit https://docs.python.org/3/library/stdtypes.html#string-methods to see the full list of available string methods!"
      ]
    }
  ]
}